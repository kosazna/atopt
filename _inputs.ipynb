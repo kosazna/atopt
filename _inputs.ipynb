{
 "cells": [
  {
   "cell_type": "code",
   "execution_count": 2,
   "source": [
    "from utilities import *\r\n",
    "from core.initial import Insertions\r\n",
    "from core.solver import CGCPSolver\r\n",
    "from docplex.cp.model import CpoModel\r\n",
    "from docplex.mp.model import Model\r\n",
    "import pandas as pd"
   ],
   "outputs": [],
   "metadata": {}
  },
  {
   "cell_type": "code",
   "execution_count": 3,
   "source": [
    "datafile = \"D:/Google Drive/MSc MST-AUEB/_Thesis_/Main Thesis/Model Data.xlsx\"\r\n",
    "d = DataProvider(filepath=datafile, route='910')\r\n",
    "model = CSPModel(d)\r\n",
    "model.build_model()\r\n",
    "initial = Insertions(model)\r\n",
    "initial.solve()\r\n",
    "s = CGCPSolver(initial.sol)"
   ],
   "outputs": [],
   "metadata": {}
  },
  {
   "cell_type": "code",
   "execution_count": 4,
   "source": [
    "rmp = Model(name='Restricted_Master_Problem')\r\n",
    "\r\n",
    "rmp.trips = s.trips\r\n",
    "rmp.duties = s.duties\r\n",
    "\r\n",
    "rmp.trip_duty_arr = rmp.binary_var_matrix(s.trips, s.duties)"
   ],
   "outputs": [],
   "metadata": {}
  },
  {
   "cell_type": "code",
   "execution_count": 5,
   "source": [
    "rmp.duty_arr = rmp.binary_var_list(rmp.duties, name='duty')"
   ],
   "outputs": [],
   "metadata": {}
  },
  {
   "cell_type": "code",
   "execution_count": 6,
   "source": [
    "for trip in rmp.trips:\r\n",
    "    duty_ct = rmp.sum(rmp.trip_duty_arr[(trip, duty)] * rmp.duty_arr[duty.ID] for duty in rmp.duties) == 1\r\n",
    "    rmp.add_constraint(duty_ct)"
   ],
   "outputs": [],
   "metadata": {}
  },
  {
   "cell_type": "code",
   "execution_count": 9,
   "source": [
    "rmp.minimize(rmp.sum(rmp.duty_arr[duty.ID] for duty in rmp.duties))"
   ],
   "outputs": [],
   "metadata": {}
  },
  {
   "cell_type": "code",
   "execution_count": 10,
   "source": [
    "rmp.solve()"
   ],
   "outputs": [
    {
     "output_type": "stream",
     "name": "stdout",
     "text": [
      "Error: Model has non-convex quadratic constraint, index=0\n"
     ]
    }
   ],
   "metadata": {}
  }
 ],
 "metadata": {
  "orig_nbformat": 4,
  "language_info": {
   "name": "python",
   "version": "3.8.10",
   "mimetype": "text/x-python",
   "codemirror_mode": {
    "name": "ipython",
    "version": 3
   },
   "pygments_lexer": "ipython3",
   "nbconvert_exporter": "python",
   "file_extension": ".py"
  },
  "kernelspec": {
   "name": "python3",
   "display_name": "Python 3.8.10 64-bit ('atopt': conda)"
  },
  "interpreter": {
   "hash": "30b76737b47ce3d470b4fde264b950ba3bc26e4f5d012461593ceba8f25caf38"
  }
 },
 "nbformat": 4,
 "nbformat_minor": 2
}