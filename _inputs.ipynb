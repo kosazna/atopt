{
 "cells": [
  {
   "cell_type": "code",
   "execution_count": 1,
   "source": [
    "from utilities import *\r\n",
    "from core.initial import Insertions\r\n",
    "from docplex.cp.model import *\r\n",
    "from IPython.display import display\r\n"
   ],
   "outputs": [],
   "metadata": {}
  },
  {
   "cell_type": "code",
   "execution_count": 2,
   "source": [
    "datafile = \"D:/Google Drive/MSc MST-AUEB/_Thesis_/Main Thesis/Model Data.xlsx\"\r\n",
    "\r\n",
    "d = DataProvider(filepath=datafile, route='910')\r\n",
    "\r\n",
    "model = CSPModel(d)\r\n",
    "model.build_model()\r\n",
    "\r\n",
    "model.data.head()"
   ],
   "outputs": [
    {
     "output_type": "execute_result",
     "data": {
      "text/html": [
       "<div>\n",
       "<style scoped>\n",
       "    .dataframe tbody tr th:only-of-type {\n",
       "        vertical-align: middle;\n",
       "    }\n",
       "\n",
       "    .dataframe tbody tr th {\n",
       "        vertical-align: top;\n",
       "    }\n",
       "\n",
       "    .dataframe thead th {\n",
       "        text-align: right;\n",
       "    }\n",
       "</style>\n",
       "<table border=\"1\" class=\"dataframe\">\n",
       "  <thead>\n",
       "    <tr style=\"text-align: right;\">\n",
       "      <th></th>\n",
       "      <th>initial_depot</th>\n",
       "      <th>final_depot</th>\n",
       "      <th>relief_point</th>\n",
       "      <th>time</th>\n",
       "      <th>trip_duration</th>\n",
       "      <th>start_time</th>\n",
       "      <th>end_time</th>\n",
       "    </tr>\n",
       "    <tr>\n",
       "      <th>trip</th>\n",
       "      <th></th>\n",
       "      <th></th>\n",
       "      <th></th>\n",
       "      <th></th>\n",
       "      <th></th>\n",
       "      <th></th>\n",
       "      <th></th>\n",
       "    </tr>\n",
       "  </thead>\n",
       "  <tbody>\n",
       "    <tr>\n",
       "      <th>0</th>\n",
       "      <td>Fix Station</td>\n",
       "      <td>Fix Station</td>\n",
       "      <td>NaN</td>\n",
       "      <td>05:00</td>\n",
       "      <td>40</td>\n",
       "      <td>300</td>\n",
       "      <td>340</td>\n",
       "    </tr>\n",
       "    <tr>\n",
       "      <th>1</th>\n",
       "      <td>Fix Station</td>\n",
       "      <td>Fix Station</td>\n",
       "      <td>NaN</td>\n",
       "      <td>05:20</td>\n",
       "      <td>40</td>\n",
       "      <td>320</td>\n",
       "      <td>360</td>\n",
       "    </tr>\n",
       "    <tr>\n",
       "      <th>2</th>\n",
       "      <td>Fix Station</td>\n",
       "      <td>Fix Station</td>\n",
       "      <td>NaN</td>\n",
       "      <td>05:55</td>\n",
       "      <td>40</td>\n",
       "      <td>355</td>\n",
       "      <td>395</td>\n",
       "    </tr>\n",
       "    <tr>\n",
       "      <th>3</th>\n",
       "      <td>Fix Station</td>\n",
       "      <td>Fix Station</td>\n",
       "      <td>NaN</td>\n",
       "      <td>06:20</td>\n",
       "      <td>44</td>\n",
       "      <td>380</td>\n",
       "      <td>424</td>\n",
       "    </tr>\n",
       "    <tr>\n",
       "      <th>4</th>\n",
       "      <td>Fix Station</td>\n",
       "      <td>Fix Station</td>\n",
       "      <td>NaN</td>\n",
       "      <td>06:40</td>\n",
       "      <td>44</td>\n",
       "      <td>400</td>\n",
       "      <td>444</td>\n",
       "    </tr>\n",
       "  </tbody>\n",
       "</table>\n",
       "</div>"
      ],
      "text/plain": [
       "     initial_depot  final_depot  relief_point   time  trip_duration  \\\n",
       "trip                                                                  \n",
       "0      Fix Station  Fix Station           NaN  05:00             40   \n",
       "1      Fix Station  Fix Station           NaN  05:20             40   \n",
       "2      Fix Station  Fix Station           NaN  05:55             40   \n",
       "3      Fix Station  Fix Station           NaN  06:20             44   \n",
       "4      Fix Station  Fix Station           NaN  06:40             44   \n",
       "\n",
       "      start_time  end_time  \n",
       "trip                        \n",
       "0            300       340  \n",
       "1            320       360  \n",
       "2            355       395  \n",
       "3            380       424  \n",
       "4            400       444  "
      ]
     },
     "metadata": {},
     "execution_count": 2
    }
   ],
   "metadata": {}
  },
  {
   "cell_type": "code",
   "execution_count": null,
   "source": [
    "# initial = Insertions(model)\r\n",
    "# initial.solve()"
   ],
   "outputs": [],
   "metadata": {}
  },
  {
   "cell_type": "code",
   "execution_count": 3,
   "source": [
    "trips = [interval_var(start=(trip.start_time, trip.start_time),\r\n",
    "                      end=(trip.end_time, trip.end_time),\r\n",
    "                      size=trip.duration,\r\n",
    "                      name=f'Trip_{idx}') for idx, trip in enumerate(model.trips)]\r\n"
   ],
   "outputs": [],
   "metadata": {}
  },
  {
   "cell_type": "code",
   "execution_count": null,
   "source": [
    "ntrips = len(model.trips)\r\n",
    "nduties = len(model.trips)\r\n",
    "\r\n",
    "sub = CpoModel(name=\"Pricing_Subproblem\")\r\n",
    "\r\n",
    "# Variables\r\n",
    "\r\n",
    "min_start = model.data[start_time].min()\r\n",
    "max_start = model.data[start_time].max()\r\n",
    "min_end = model.data[end_time].min()\r\n",
    "max_end = model.data[end_time].max()\r\n",
    "\r\n",
    "duties = [interval_var(start=(min_start, max_start),\r\n",
    "                       end=(min_end, max_end),\r\n",
    "                       size=model.constraints.shift_span,\r\n",
    "                       name=f\"Duty_{i}\",\r\n",
    "                       optional=True)\r\n",
    "          for i in range(nduties)]\r\n",
    "\r\n",
    "trip2trip = integer_var_list(size=ntrips,\r\n",
    "                             min=0,\r\n",
    "                             max=ntrips + 1,\r\n",
    "                             name='Trip2Trip')\r\n",
    "\r\n",
    "trip2duty = integer_var_list(size=ntrips,\r\n",
    "                             min=0,\r\n",
    "                             max=nduties,\r\n",
    "                             name='Trip2Duty')\r\n",
    "\r\n",
    "start_times = [[integer_var(min=0,\r\n",
    "                            max=model.constraints.shift_span,\r\n",
    "                            name=f\"StartTime-{i}-{j}\")\r\n",
    "               for j in range(nduties)] for i in range(ntrips)]\r\n",
    "\r\n",
    "cdt = integer_var_list(size=nduties,\r\n",
    "                       min=0,\r\n",
    "                       max=model.constraints.continuous_driving,\r\n",
    "                       name=\"CDT\")\r\n",
    "\r\n",
    "tdt = integer_var_list(size=nduties,\r\n",
    "                       min=0,\r\n",
    "                       max=model.constraints.total_driving,\r\n",
    "                       name=\"TDT\")\r\n",
    "\r\n",
    "# Constraints\r\n",
    "\r\n",
    "for i in range(ntrips):\r\n",
    "    for j in range(ntrips):\r\n",
    "        sub.add(sub.if_then(\r\n",
    "            trip2trip[i] == j, model.end_times[i] <= model.start_times[j]))\r\n",
    "\r\n",
    "for i in range(ntrips):\r\n",
    "    for j in range(ntrips):\r\n",
    "        sub.add(sub.if_then(\r\n",
    "            trip2trip[i] == j, model.end_locs[i] <= model.start_locs[j]))\r\n",
    "\r\n",
    "for i in range(ntrips):\r\n",
    "    sub.add(trip2trip[i] != i)\r\n",
    "\r\n",
    "for i in range(ntrips):\r\n",
    "    for j in range(ntrips):\r\n",
    "        sub.add(sub.if_then(trip2trip[i] == j, trip2duty[i] == trip2duty[j]))\r\n"
   ],
   "outputs": [],
   "metadata": {}
  },
  {
   "cell_type": "code",
   "execution_count": null,
   "source": [
    "def report_solution(cpsol: CpoSolveResult):\r\n",
    "    trips_per_duty = {}\r\n",
    "    for i in range(ntrips):\r\n",
    "        _out = f\"{i:>2} -> {cpsol[trip2trip[i]]} | Duty: {cpsol[trip2duty[i]]}\"\r\n",
    "        # print(_out)\r\n",
    "\r\n",
    "        duty_id = cpsol[trip2duty[i]]\r\n",
    "\r\n",
    "        if duty_id in trips_per_duty:\r\n",
    "            trips_per_duty[duty_id].append(i)\r\n",
    "        else:\r\n",
    "            trips_per_duty[duty_id] = []\r\n",
    "            trips_per_duty[duty_id].append(i)\r\n",
    "\r\n",
    "    print(f'\\n\\nTotal Duties: {len(trips_per_duty.keys())}')\r\n",
    "\r\n",
    "    for duty_id, duty_trips in trips_per_duty.items():\r\n",
    "        df_trips = model.data.loc[duty_trips]\r\n",
    "\r\n",
    "        span = df_trips[end_time].max() - df_trips[start_time].min()\r\n",
    "\r\n",
    "        print(\r\n",
    "            f'\\n\\n>>> Duty {duty_id} - Trips: {len(duty_trips)} - Drive Time: {df_trips[trip_duration].sum()} - Shift Span: {span}\\n')\r\n",
    "        display(df_trips)"
   ],
   "outputs": [],
   "metadata": {}
  },
  {
   "cell_type": "code",
   "execution_count": 18,
   "source": [
    "ntrips = len(model.trips)\r\n",
    "nduties = 10\r\n",
    "\r\n",
    "sub = CpoModel(name=\"Pricing_Subproblem\")\r\n",
    "\r\n",
    "# Variables\r\n",
    "\r\n",
    "min_start = model.data[start_time].min()\r\n",
    "max_start = model.data[start_time].max()\r\n",
    "min_end = model.data[end_time].min()\r\n",
    "max_end = model.data[end_time].max()\r\n",
    "\r\n",
    "trips = [interval_var(start=(trip.start_time, trip.start_time),\r\n",
    "                      end=(trip.end_time, trip.end_time),\r\n",
    "                      size=trip.duration,\r\n",
    "                      name=f'Trip_{idx}') for idx, trip in enumerate(model.trips)]\r\n",
    "\r\n",
    "\r\n",
    "duties = [interval_var(start=(min_start, max_start),\r\n",
    "                       end=(min_end, max_end),\r\n",
    "                       size=model.constraints.shift_span,\r\n",
    "                       name=f\"Duty_{i}\",\r\n",
    "                       optional=True)\r\n",
    "          for i in range(nduties)]"
   ],
   "outputs": [],
   "metadata": {}
  },
  {
   "cell_type": "code",
   "execution_count": 19,
   "source": [
    "trip2duty = {}\r\n",
    "for t in range(ntrips):\r\n",
    "    for d in range(nduties):\r\n",
    "        trip2duty[(t, d)] = sub.interval_var(size=model.durations[t],\r\n",
    "                                             name=f\"Trip{t}Duty{d}\",\r\n",
    "                                             optional=True)\r\n"
   ],
   "outputs": [],
   "metadata": {}
  },
  {
   "cell_type": "code",
   "execution_count": 20,
   "source": [
    "for d in range(nduties):\r\n",
    "    sub.add(sub.span(duties[d], [trip2duty[(t,d)] for t in range(ntrips)]))"
   ],
   "outputs": [],
   "metadata": {}
  },
  {
   "cell_type": "code",
   "execution_count": 21,
   "source": [
    "for t1 in range(ntrips-1):\r\n",
    "    for t2 in range(i + 1, ntrips):\r\n",
    "        sub.add(end_before_start(trips[t1], trips[t2]))"
   ],
   "outputs": [],
   "metadata": {}
  },
  {
   "cell_type": "code",
   "execution_count": 22,
   "source": [
    "msol = sub.solve()"
   ],
   "outputs": [
    {
     "output_type": "error",
     "ename": "CpoSolverException",
     "evalue": "Solver error: Problem size limit exceeded.\nCP Optimizer Community Edition solves problems with search spaces up to 2^1000.\nUnrestricted version options (including academia) at https://ibm.co/2s0wqSa\n",
     "traceback": [
      "\u001b[1;31m---------------------------------------------------------------------------\u001b[0m",
      "\u001b[1;31mCpoSolverException\u001b[0m                        Traceback (most recent call last)",
      "\u001b[1;32mC:\\Users\\AZNAVO~1.K\\AppData\\Local\\Temp/ipykernel_5428/1156426118.py\u001b[0m in \u001b[0;36m<module>\u001b[1;34m\u001b[0m\n\u001b[1;32m----> 1\u001b[1;33m \u001b[0mmsol\u001b[0m \u001b[1;33m=\u001b[0m \u001b[0msub\u001b[0m\u001b[1;33m.\u001b[0m\u001b[0msolve\u001b[0m\u001b[1;33m(\u001b[0m\u001b[1;33m)\u001b[0m\u001b[1;33m\u001b[0m\u001b[1;33m\u001b[0m\u001b[0m\n\u001b[0m",
      "\u001b[1;32m~\\miniconda3\\envs\\atopt\\lib\\site-packages\\docplex\\cp\\model.py\u001b[0m in \u001b[0;36msolve\u001b[1;34m(self, **kwargs)\u001b[0m\n\u001b[0;32m   1220\u001b[0m         \"\"\"\n\u001b[0;32m   1221\u001b[0m         \u001b[0msolver\u001b[0m \u001b[1;33m=\u001b[0m \u001b[0mself\u001b[0m\u001b[1;33m.\u001b[0m\u001b[0mcreate_solver\u001b[0m\u001b[1;33m(\u001b[0m\u001b[1;33m**\u001b[0m\u001b[0mkwargs\u001b[0m\u001b[1;33m)\u001b[0m\u001b[1;33m\u001b[0m\u001b[1;33m\u001b[0m\u001b[0m\n\u001b[1;32m-> 1222\u001b[1;33m         \u001b[0mmsol\u001b[0m \u001b[1;33m=\u001b[0m \u001b[0msolver\u001b[0m\u001b[1;33m.\u001b[0m\u001b[0msolve\u001b[0m\u001b[1;33m(\u001b[0m\u001b[1;33m)\u001b[0m\u001b[1;33m\u001b[0m\u001b[1;33m\u001b[0m\u001b[0m\n\u001b[0m\u001b[0;32m   1223\u001b[0m         \u001b[0msolver\u001b[0m\u001b[1;33m.\u001b[0m\u001b[0mend\u001b[0m\u001b[1;33m(\u001b[0m\u001b[1;33m)\u001b[0m\u001b[1;33m\u001b[0m\u001b[1;33m\u001b[0m\u001b[0m\n\u001b[0;32m   1224\u001b[0m         \u001b[1;32mreturn\u001b[0m \u001b[0mmsol\u001b[0m\u001b[1;33m\u001b[0m\u001b[1;33m\u001b[0m\u001b[0m\n",
      "\u001b[1;32m~\\miniconda3\\envs\\atopt\\lib\\site-packages\\docplex\\cp\\solver\\solver.py\u001b[0m in \u001b[0;36msolve\u001b[1;34m(self)\u001b[0m\n\u001b[0;32m    773\u001b[0m             \u001b[1;32mif\u001b[0m \u001b[0mself\u001b[0m\u001b[1;33m.\u001b[0m\u001b[0mcontext\u001b[0m\u001b[1;33m.\u001b[0m\u001b[0mlog_exceptions\u001b[0m\u001b[1;33m:\u001b[0m\u001b[1;33m\u001b[0m\u001b[1;33m\u001b[0m\u001b[0m\n\u001b[0;32m    774\u001b[0m                 \u001b[0mtraceback\u001b[0m\u001b[1;33m.\u001b[0m\u001b[0mprint_exc\u001b[0m\u001b[1;33m(\u001b[0m\u001b[1;33m)\u001b[0m\u001b[1;33m\u001b[0m\u001b[1;33m\u001b[0m\u001b[0m\n\u001b[1;32m--> 775\u001b[1;33m             \u001b[1;32mraise\u001b[0m \u001b[0me\u001b[0m\u001b[1;33m\u001b[0m\u001b[1;33m\u001b[0m\u001b[0m\n\u001b[0m\u001b[0;32m    776\u001b[0m         \u001b[0mself\u001b[0m\u001b[1;33m.\u001b[0m\u001b[0m_set_status\u001b[0m\u001b[1;33m(\u001b[0m\u001b[0mSTATUS_IDLE\u001b[0m\u001b[1;33m)\u001b[0m\u001b[1;33m\u001b[0m\u001b[1;33m\u001b[0m\u001b[0m\n\u001b[0;32m    777\u001b[0m         \u001b[0mstime\u001b[0m \u001b[1;33m=\u001b[0m \u001b[0mtime\u001b[0m\u001b[1;33m.\u001b[0m\u001b[0mtime\u001b[0m\u001b[1;33m(\u001b[0m\u001b[1;33m)\u001b[0m \u001b[1;33m-\u001b[0m \u001b[0mstime\u001b[0m\u001b[1;33m\u001b[0m\u001b[1;33m\u001b[0m\u001b[0m\n",
      "\u001b[1;32m~\\miniconda3\\envs\\atopt\\lib\\site-packages\\docplex\\cp\\solver\\solver.py\u001b[0m in \u001b[0;36msolve\u001b[1;34m(self)\u001b[0m\n\u001b[0;32m    766\u001b[0m         \u001b[0mself\u001b[0m\u001b[1;33m.\u001b[0m\u001b[0m_set_status\u001b[0m\u001b[1;33m(\u001b[0m\u001b[0mSTATUS_SOLVING\u001b[0m\u001b[1;33m)\u001b[0m\u001b[1;33m\u001b[0m\u001b[1;33m\u001b[0m\u001b[0m\n\u001b[0;32m    767\u001b[0m         \u001b[1;32mtry\u001b[0m\u001b[1;33m:\u001b[0m\u001b[1;33m\u001b[0m\u001b[1;33m\u001b[0m\u001b[0m\n\u001b[1;32m--> 768\u001b[1;33m             \u001b[0mmsol\u001b[0m \u001b[1;33m=\u001b[0m \u001b[0mself\u001b[0m\u001b[1;33m.\u001b[0m\u001b[0magent\u001b[0m\u001b[1;33m.\u001b[0m\u001b[0msolve\u001b[0m\u001b[1;33m(\u001b[0m\u001b[1;33m)\u001b[0m\u001b[1;33m\u001b[0m\u001b[1;33m\u001b[0m\u001b[0m\n\u001b[0m\u001b[0;32m    769\u001b[0m         \u001b[1;32mexcept\u001b[0m \u001b[0mException\u001b[0m \u001b[1;32mas\u001b[0m \u001b[0me\u001b[0m\u001b[1;33m:\u001b[0m\u001b[1;33m\u001b[0m\u001b[1;33m\u001b[0m\u001b[0m\n\u001b[0;32m    770\u001b[0m             \u001b[1;31m# Check if aborted in the mean time\u001b[0m\u001b[1;33m\u001b[0m\u001b[1;33m\u001b[0m\u001b[1;33m\u001b[0m\u001b[0m\n",
      "\u001b[1;32m~\\miniconda3\\envs\\atopt\\lib\\site-packages\\docplex\\cp\\solver\\solver_local.py\u001b[0m in \u001b[0;36msolve\u001b[1;34m(self)\u001b[0m\n\u001b[0;32m    207\u001b[0m \u001b[1;33m\u001b[0m\u001b[0m\n\u001b[0;32m    208\u001b[0m         \u001b[1;31m# Wait JSON result\u001b[0m\u001b[1;33m\u001b[0m\u001b[1;33m\u001b[0m\u001b[1;33m\u001b[0m\u001b[0m\n\u001b[1;32m--> 209\u001b[1;33m         \u001b[0mjsol\u001b[0m \u001b[1;33m=\u001b[0m \u001b[0mself\u001b[0m\u001b[1;33m.\u001b[0m\u001b[0m_wait_json_result\u001b[0m\u001b[1;33m(\u001b[0m\u001b[0mEVT_SOLVE_RESULT\u001b[0m\u001b[1;33m)\u001b[0m\u001b[1;33m\u001b[0m\u001b[1;33m\u001b[0m\u001b[0m\n\u001b[0m\u001b[0;32m    210\u001b[0m \u001b[1;33m\u001b[0m\u001b[0m\n\u001b[0;32m    211\u001b[0m         \u001b[1;31m# Build result object\u001b[0m\u001b[1;33m\u001b[0m\u001b[1;33m\u001b[0m\u001b[1;33m\u001b[0m\u001b[0m\n",
      "\u001b[1;32m~\\miniconda3\\envs\\atopt\\lib\\site-packages\\docplex\\cp\\solver\\solver_local.py\u001b[0m in \u001b[0;36m_wait_json_result\u001b[1;34m(self, evt)\u001b[0m\n\u001b[0;32m    543\u001b[0m \u001b[1;33m\u001b[0m\u001b[0m\n\u001b[0;32m    544\u001b[0m         \u001b[1;31m# Wait JSON result\u001b[0m\u001b[1;33m\u001b[0m\u001b[1;33m\u001b[0m\u001b[1;33m\u001b[0m\u001b[0m\n\u001b[1;32m--> 545\u001b[1;33m         \u001b[0mdata\u001b[0m \u001b[1;33m=\u001b[0m \u001b[0mself\u001b[0m\u001b[1;33m.\u001b[0m\u001b[0m_wait_event\u001b[0m\u001b[1;33m(\u001b[0m\u001b[0mevt\u001b[0m\u001b[1;33m)\u001b[0m\u001b[1;33m\u001b[0m\u001b[1;33m\u001b[0m\u001b[0m\n\u001b[0m\u001b[0;32m    546\u001b[0m \u001b[1;33m\u001b[0m\u001b[0m\n\u001b[0;32m    547\u001b[0m         \u001b[1;31m# Store last json result\u001b[0m\u001b[1;33m\u001b[0m\u001b[1;33m\u001b[0m\u001b[1;33m\u001b[0m\u001b[0m\n",
      "\u001b[1;32m~\\miniconda3\\envs\\atopt\\lib\\site-packages\\docplex\\cp\\solver\\solver_local.py\u001b[0m in \u001b[0;36m_wait_event\u001b[1;34m(self, xevt)\u001b[0m\n\u001b[0;32m    499\u001b[0m                     \u001b[0mdata\u001b[0m \u001b[1;33m+=\u001b[0m \u001b[1;34m\" (\"\u001b[0m \u001b[1;33m+\u001b[0m \u001b[0mfirsterror\u001b[0m \u001b[1;33m+\u001b[0m \u001b[1;34m\")\"\u001b[0m\u001b[1;33m\u001b[0m\u001b[1;33m\u001b[0m\u001b[0m\n\u001b[0;32m    500\u001b[0m                 \u001b[0mself\u001b[0m\u001b[1;33m.\u001b[0m\u001b[0mend\u001b[0m\u001b[1;33m(\u001b[0m\u001b[1;33m)\u001b[0m\u001b[1;33m\u001b[0m\u001b[1;33m\u001b[0m\u001b[0m\n\u001b[1;32m--> 501\u001b[1;33m                 \u001b[1;32mraise\u001b[0m \u001b[0mCpoSolverException\u001b[0m\u001b[1;33m(\u001b[0m\u001b[1;34m\"Solver error: \"\u001b[0m \u001b[1;33m+\u001b[0m \u001b[0mdata\u001b[0m\u001b[1;33m)\u001b[0m\u001b[1;33m\u001b[0m\u001b[1;33m\u001b[0m\u001b[0m\n\u001b[0m\u001b[0;32m    502\u001b[0m \u001b[1;33m\u001b[0m\u001b[0m\n\u001b[0;32m    503\u001b[0m             \u001b[1;32melse\u001b[0m\u001b[1;33m:\u001b[0m\u001b[1;33m\u001b[0m\u001b[1;33m\u001b[0m\u001b[0m\n",
      "\u001b[1;31mCpoSolverException\u001b[0m: Solver error: Problem size limit exceeded.\nCP Optimizer Community Edition solves problems with search spaces up to 2^1000.\nUnrestricted version options (including academia) at https://ibm.co/2s0wqSa\n"
     ]
    }
   ],
   "metadata": {}
  },
  {
   "cell_type": "code",
   "execution_count": null,
   "source": [
    "msol = sub.solve()\r\n",
    "\r\n",
    "report_solution(msol)"
   ],
   "outputs": [],
   "metadata": {}
  },
  {
   "cell_type": "code",
   "execution_count": null,
   "source": [
    "sub.end_of(trips[i]) <= sub.end_of(trips[j]))"
   ],
   "outputs": [],
   "metadata": {}
  },
  {
   "cell_type": "code",
   "execution_count": 6,
   "source": [
    "start_of(trips[1]) <= 200"
   ],
   "outputs": [
    {
     "output_type": "execute_result",
     "data": {
      "text/plain": [
       "<docplex.cp.expression.CpoFunctionCall at 0x2157c44d270>"
      ]
     },
     "metadata": {},
     "execution_count": 6
    }
   ],
   "metadata": {}
  },
  {
   "cell_type": "code",
   "execution_count": 10,
   "source": [
    "less_or_equal(start_of(trips[0]), start_of(trips[1]))"
   ],
   "outputs": [
    {
     "output_type": "execute_result",
     "data": {
      "text/plain": [
       "<docplex.cp.expression.CpoFunctionCall at 0x1b5d0ec8770>"
      ]
     },
     "metadata": {},
     "execution_count": 10
    }
   ],
   "metadata": {}
  },
  {
   "cell_type": "code",
   "execution_count": null,
   "source": [
    "for i in range(len(trips)):\r\n",
    "    for j in range(1, len(trips)):\r\n",
    "        print(less_or_equal(trips[i].get_start() , trips[j].get_start()))\r\n"
   ],
   "outputs": [],
   "metadata": {}
  },
  {
   "cell_type": "code",
   "execution_count": null,
   "source": [
    "for i in range(ntrips):\r\n",
    "    sub.add(trip2trip[i] != 0)\r\n",
    "    # sub.add(sum([trip2trip[j] == i for j in range(ntrips+1)]) == 1)"
   ],
   "outputs": [],
   "metadata": {}
  },
  {
   "cell_type": "code",
   "execution_count": null,
   "source": [
    "for i in range(ntrips-1):\r\n",
    "    for j in range(i + 1, ntrips):\r\n",
    "        sub.add(end_before_start(trips[i], trips[j]))"
   ],
   "outputs": [],
   "metadata": {}
  },
  {
   "cell_type": "code",
   "execution_count": null,
   "source": [
    "has_break = [[binary_var(name=f'Break_{i}_{j}') for j in range(nduties)] for i in range(ntrips)]\r\n",
    "has_rest = [[binary_var(name=f'Rest_{i}_{j}') for j in range(nduties)] for i in range(ntrips)]"
   ],
   "outputs": [],
   "metadata": {}
  },
  {
   "cell_type": "code",
   "execution_count": null,
   "source": [
    "trip_seq = sequence_var(trips)"
   ],
   "outputs": [],
   "metadata": {}
  },
  {
   "cell_type": "code",
   "execution_count": null,
   "source": [
    "td_matrix = {}\r\n",
    "for trip in model.trips:\r\n",
    "    for duty in range(ntrips):\r\n",
    "        td_matrix[(trip.ID, duty)] = binary_var(name=f\"T{trip.ID}-D{duty}\")"
   ],
   "outputs": [],
   "metadata": {}
  }
 ],
 "metadata": {
  "orig_nbformat": 4,
  "language_info": {
   "name": "python",
   "version": "3.8.10",
   "mimetype": "text/x-python",
   "codemirror_mode": {
    "name": "ipython",
    "version": 3
   },
   "pygments_lexer": "ipython3",
   "nbconvert_exporter": "python",
   "file_extension": ".py"
  },
  "kernelspec": {
   "name": "python3",
   "display_name": "Python 3.8.10 64-bit ('atopt': conda)"
  },
  "interpreter": {
   "hash": "30b76737b47ce3d470b4fde264b950ba3bc26e4f5d012461593ceba8f25caf38"
  }
 },
 "nbformat": 4,
 "nbformat_minor": 2
}