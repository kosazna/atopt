{
 "cells": [
  {
   "cell_type": "code",
   "execution_count": 1,
   "metadata": {},
   "outputs": [],
   "source": [
    "from utilities import *\n",
    "from core.initial import Insertions\n",
    "from docplex.cp.model import *\n",
    "from IPython.display import display\n",
    "import docplex.cp.utils_visu as visu\n",
    "import matplotlib.pyplot as plt\n",
    "from pylab import rcParams\n",
    "\n",
    "%matplotlib inline\n"
   ]
  },
  {
   "cell_type": "code",
   "execution_count": 2,
   "metadata": {},
   "outputs": [
    {
     "data": {
      "text/html": [
       "<div>\n",
       "<style scoped>\n",
       "    .dataframe tbody tr th:only-of-type {\n",
       "        vertical-align: middle;\n",
       "    }\n",
       "\n",
       "    .dataframe tbody tr th {\n",
       "        vertical-align: top;\n",
       "    }\n",
       "\n",
       "    .dataframe thead th {\n",
       "        text-align: right;\n",
       "    }\n",
       "</style>\n",
       "<table border=\"1\" class=\"dataframe\">\n",
       "  <thead>\n",
       "    <tr style=\"text-align: right;\">\n",
       "      <th></th>\n",
       "      <th>initial_depot</th>\n",
       "      <th>final_depot</th>\n",
       "      <th>relief_point</th>\n",
       "      <th>time</th>\n",
       "      <th>trip_duration</th>\n",
       "      <th>start_time</th>\n",
       "      <th>end_time</th>\n",
       "    </tr>\n",
       "    <tr>\n",
       "      <th>trip</th>\n",
       "      <th></th>\n",
       "      <th></th>\n",
       "      <th></th>\n",
       "      <th></th>\n",
       "      <th></th>\n",
       "      <th></th>\n",
       "      <th></th>\n",
       "    </tr>\n",
       "  </thead>\n",
       "  <tbody>\n",
       "    <tr>\n",
       "      <th>0</th>\n",
       "      <td>Fix Station</td>\n",
       "      <td>Fix Station</td>\n",
       "      <td>NaN</td>\n",
       "      <td>05:00</td>\n",
       "      <td>40</td>\n",
       "      <td>300</td>\n",
       "      <td>340</td>\n",
       "    </tr>\n",
       "    <tr>\n",
       "      <th>1</th>\n",
       "      <td>Fix Station</td>\n",
       "      <td>Fix Station</td>\n",
       "      <td>NaN</td>\n",
       "      <td>05:20</td>\n",
       "      <td>40</td>\n",
       "      <td>320</td>\n",
       "      <td>360</td>\n",
       "    </tr>\n",
       "    <tr>\n",
       "      <th>2</th>\n",
       "      <td>Fix Station</td>\n",
       "      <td>Fix Station</td>\n",
       "      <td>NaN</td>\n",
       "      <td>05:55</td>\n",
       "      <td>40</td>\n",
       "      <td>355</td>\n",
       "      <td>395</td>\n",
       "    </tr>\n",
       "    <tr>\n",
       "      <th>3</th>\n",
       "      <td>Fix Station</td>\n",
       "      <td>Fix Station</td>\n",
       "      <td>NaN</td>\n",
       "      <td>06:20</td>\n",
       "      <td>44</td>\n",
       "      <td>380</td>\n",
       "      <td>424</td>\n",
       "    </tr>\n",
       "    <tr>\n",
       "      <th>4</th>\n",
       "      <td>Fix Station</td>\n",
       "      <td>Fix Station</td>\n",
       "      <td>NaN</td>\n",
       "      <td>06:40</td>\n",
       "      <td>44</td>\n",
       "      <td>400</td>\n",
       "      <td>444</td>\n",
       "    </tr>\n",
       "  </tbody>\n",
       "</table>\n",
       "</div>"
      ],
      "text/plain": [
       "     initial_depot  final_depot  relief_point   time  trip_duration  \\\n",
       "trip                                                                  \n",
       "0      Fix Station  Fix Station           NaN  05:00             40   \n",
       "1      Fix Station  Fix Station           NaN  05:20             40   \n",
       "2      Fix Station  Fix Station           NaN  05:55             40   \n",
       "3      Fix Station  Fix Station           NaN  06:20             44   \n",
       "4      Fix Station  Fix Station           NaN  06:40             44   \n",
       "\n",
       "      start_time  end_time  \n",
       "trip                        \n",
       "0            300       340  \n",
       "1            320       360  \n",
       "2            355       395  \n",
       "3            380       424  \n",
       "4            400       444  "
      ]
     },
     "execution_count": 2,
     "metadata": {},
     "output_type": "execute_result"
    }
   ],
   "source": [
    "datafile = \"C:/Users/aznavouridis.k/My Drive/MSc MST-AUEB/_Thesis_/Main Thesis/Model Data.xlsx\"\n",
    "\n",
    "d = DataProvider(filepath=datafile, route='910')\n",
    "\n",
    "model = CSPModel(d)\n",
    "model.build_model()\n",
    "\n",
    "model.data.head()"
   ]
  },
  {
   "cell_type": "code",
   "execution_count": null,
   "metadata": {},
   "outputs": [],
   "source": [
    "initial = Insertions(model)\n",
    "initial.solve()"
   ]
  },
  {
   "cell_type": "code",
   "execution_count": 3,
   "metadata": {},
   "outputs": [
    {
     "data": {
      "text/plain": [
       "array([ 300,  320,  355,  380,  400,  420,  435,  450,  465,  480,  495,\n",
       "        515,  530,  545,  565,  580,  595,  610,  625,  645,  660,  675,\n",
       "        695,  710,  725,  745,  760,  775,  795,  810,  825,  845,  860,\n",
       "        875,  895,  910,  925,  945,  960,  975,  995, 1010, 1025, 1045,\n",
       "       1060, 1080, 1105, 1130, 1150, 1170, 1190, 1215, 1240, 1270, 1305,\n",
       "       1345, 1385, 1420], dtype=int64)"
      ]
     },
     "execution_count": 3,
     "metadata": {},
     "output_type": "execute_result"
    }
   ],
   "source": [
    "model.start_times"
   ]
  },
  {
   "cell_type": "code",
   "execution_count": 4,
   "metadata": {},
   "outputs": [
    {
     "data": {
      "text/plain": [
       "array([ 340,  360,  395,  424,  444,  468,  483,  498,  513,  532,  547,\n",
       "        567,  582,  597,  617,  632,  647,  654,  669,  689,  704,  719,\n",
       "        739,  754,  769,  789,  804,  819,  839,  854,  869,  893,  908,\n",
       "        923,  943,  958,  973,  993, 1012, 1027, 1047, 1062, 1077, 1097,\n",
       "       1112, 1124, 1149, 1174, 1194, 1214, 1234, 1259, 1284, 1310, 1345,\n",
       "       1385, 1425, 1460], dtype=int64)"
      ]
     },
     "execution_count": 4,
     "metadata": {},
     "output_type": "execute_result"
    }
   ],
   "source": [
    "model.end_times"
   ]
  },
  {
   "cell_type": "code",
   "execution_count": 8,
   "metadata": {},
   "outputs": [
    {
     "data": {
      "text/plain": [
       "array([20,  5, 15, 24, 24, 33, 33, 33, 33, 37, 32, 37, 37, 32, 37, 37, 37,\n",
       "       29, 24, 29, 29, 24, 29, 29, 24, 29, 29, 24, 29, 29, 24, 33, 33, 28,\n",
       "       33, 33, 28, 33, 37, 32, 37, 37, 32, 37, 32, 19, 19, 24, 24, 24, 19,\n",
       "       19, 14,  5,  0,  0,  5], dtype=int64)"
      ]
     },
     "execution_count": 8,
     "metadata": {},
     "output_type": "execute_result"
    }
   ],
   "source": [
    "model.end_times[:-1] - model.start_times[1:]"
   ]
  },
  {
   "cell_type": "code",
   "execution_count": null,
   "metadata": {},
   "outputs": [],
   "source": [
    "trips = [interval_var(start=(trip.start_time, trip.start_time),\n",
    "                      end=(trip.end_time, trip.end_time),\n",
    "                      size=trip.duration,\n",
    "                      name=f'Trip_{idx}') for idx, trip in enumerate(model.trips)]\n"
   ]
  },
  {
   "cell_type": "code",
   "execution_count": null,
   "metadata": {},
   "outputs": [],
   "source": [
    "ntrips = len(model.trips)\n",
    "nduties = len(model.trips)\n",
    "\n",
    "sub = CpoModel(name=\"Pricing_Subproblem\")\n",
    "\n",
    "# Variables\n",
    "\n",
    "min_start = model.data[start_time].min()\n",
    "max_start = model.data[start_time].max()\n",
    "min_end = model.data[end_time].min()\n",
    "max_end = model.data[end_time].max()\n",
    "\n",
    "duties = [interval_var(start=(min_start, max_start),\n",
    "                       end=(min_end, max_end),\n",
    "                       size=model.constraints.shift_span,\n",
    "                       name=f\"Duty_{i}\",\n",
    "                       optional=True)\n",
    "          for i in range(nduties)]\n",
    "\n",
    "trip2trip = integer_var_list(size=ntrips,\n",
    "                             min=0,\n",
    "                             max=ntrips + 1,\n",
    "                             name='Trip2Trip')\n",
    "\n",
    "trip2duty = integer_var_list(size=ntrips,\n",
    "                             min=0,\n",
    "                             max=nduties,\n",
    "                             name='Trip2Duty')\n",
    "\n",
    "start_times = [[integer_var(min=0,\n",
    "                            max=model.constraints.shift_span,\n",
    "                            name=f\"StartTime-{i}-{j}\")\n",
    "               for j in range(nduties)] for i in range(ntrips)]\n",
    "\n",
    "cdt = integer_var_list(size=nduties,\n",
    "                       min=0,\n",
    "                       max=model.constraints.continuous_driving,\n",
    "                       name=\"CDT\")\n",
    "\n",
    "tdt = integer_var_list(size=nduties,\n",
    "                       min=0,\n",
    "                       max=model.constraints.total_driving,\n",
    "                       name=\"TDT\")\n",
    "\n",
    "# Constraints\n",
    "\n",
    "for i in range(ntrips):\n",
    "    for j in range(ntrips):\n",
    "        sub.add(sub.if_then(\n",
    "            trip2trip[i] == j, model.end_times[i] <= model.start_times[j]))\n",
    "\n",
    "for i in range(ntrips):\n",
    "    for j in range(ntrips):\n",
    "        sub.add(sub.if_then(\n",
    "            trip2trip[i] == j, model.end_locs[i] <= model.start_locs[j]))\n",
    "\n",
    "for i in range(ntrips):\n",
    "    sub.add(trip2trip[i] != i)\n",
    "\n",
    "for i in range(ntrips):\n",
    "    for j in range(ntrips):\n",
    "        sub.add(sub.if_then(trip2trip[i] == j, trip2duty[i] == trip2duty[j]))\n"
   ]
  },
  {
   "cell_type": "code",
   "execution_count": null,
   "metadata": {},
   "outputs": [],
   "source": [
    "def report_solution(cpsol: CpoSolveResult):\n",
    "    trips_per_duty = {}\n",
    "    for i in range(ntrips):\n",
    "        _out = f\"{i:>2} -> {cpsol[trip2trip[i]]} | Duty: {cpsol[trip2duty[i]]}\"\n",
    "        # print(_out)\n",
    "\n",
    "        duty_id = cpsol[trip2duty[i]]\n",
    "\n",
    "        if duty_id in trips_per_duty:\n",
    "            trips_per_duty[duty_id].append(i)\n",
    "        else:\n",
    "            trips_per_duty[duty_id] = []\n",
    "            trips_per_duty[duty_id].append(i)\n",
    "\n",
    "    print(f'\\n\\nTotal Duties: {len(trips_per_duty.keys())}')\n",
    "\n",
    "    for duty_id, duty_trips in trips_per_duty.items():\n",
    "        df_trips = model.data.loc[duty_trips]\n",
    "\n",
    "        span = df_trips[end_time].max() - df_trips[start_time].min()\n",
    "\n",
    "        print(\n",
    "            f'\\n\\n>>> Duty {duty_id} - Trips: {len(duty_trips)} - Drive Time: {df_trips[trip_duration].sum()} - Shift Span: {span}\\n')\n",
    "        display(df_trips)"
   ]
  },
  {
   "cell_type": "code",
   "execution_count": 3,
   "metadata": {},
   "outputs": [],
   "source": [
    "model.trips = model.trips[:20]\n",
    "NTRIPS = len(model.trips)\n",
    "NDUTIES = 6"
   ]
  },
  {
   "cell_type": "code",
   "execution_count": 4,
   "metadata": {},
   "outputs": [],
   "source": [
    "NTRIPS = len(model.trips)\n",
    "NDUTIES = 10"
   ]
  },
  {
   "cell_type": "code",
   "execution_count": 5,
   "metadata": {},
   "outputs": [],
   "source": [
    "sub = CpoModel(name=\"Pricing_Subproblem\")\n",
    "\n",
    "min_start = model.data[start_time].min()\n",
    "max_start = model.data[start_time].max()\n",
    "min_end = model.data[end_time].min()\n",
    "max_end = model.data[end_time].max()\n",
    "\n",
    "# trips = [interval_var(start=(trip.start_time, trip.start_time),\n",
    "#                       end=(trip.end_time, trip.end_time),\n",
    "#                       size=trip.duration,\n",
    "#                       name=f'Trip_{idx}') for idx, trip in enumerate(model.trips)]\n",
    "\n",
    "\n",
    "duties = [interval_var(start=(min_start, max_start),\n",
    "                       end=(min_end, max_end),\n",
    "                       size=(0, model.constraints.shift_span),\n",
    "                       name=f\"Duty_{i}\",\n",
    "                       optional=True)\n",
    "          for i in range(NDUTIES)]\n",
    "\n",
    "breaks = [interval_var(size=model.constraints.break_time,\n",
    "                       name=f\"BreakTime_{i}\",\n",
    "                       optional=True)\n",
    "          for i in range(NDUTIES)]\n",
    "\n",
    "trip2duty = {}\n",
    "for t, trip in enumerate(model.trips):\n",
    "    for d in range(NDUTIES):\n",
    "        trip2duty[(t, d)] = sub.interval_var(start=(trip.start_time, trip.start_time),\n",
    "                                             end=(trip.end_time, trip.end_time),\n",
    "                                             size=trip.duration,\n",
    "                                             name=f\"Trip_{t:02} | Duty_{d:02}\",\n",
    "                                             optional=True)"
   ]
  },
  {
   "cell_type": "code",
   "execution_count": 5,
   "metadata": {},
   "outputs": [],
   "source": [
    "for d in range(NDUTIES):\n",
    "    sub.add(sub.span(duties[d], [trip2duty[(t, d)] for t in range(NTRIPS)]))\n",
    "\n",
    "for d in range(NDUTIES):\n",
    "    sub.add(sub.no_overlap([trip2duty[(t, d)] for t in range(NTRIPS)]))\n",
    "\n",
    "for t in range(NTRIPS):\n",
    "    sub.add(sub.sum([sub.presence_of(trip2duty[(t, d)]) for d in range(NDUTIES)]) == 1)"
   ]
  },
  {
   "cell_type": "code",
   "execution_count": null,
   "metadata": {},
   "outputs": [],
   "source": [
    "cdt = {}\n",
    "tdt = {}\n",
    "\n",
    "for d in range(nduties):\n",
    "    cdt[d] = sub.step_at(0, 0)\n",
    "    tdt[d] = sub.step_at(0, 0)\n",
    "    for t in range(ntrips):\n",
    "        cdt[d] += sub.pulse(trip2duty[(t,d)], model.durations[t])\n",
    "        tdt[d] += sub.pulse(trip2duty[(t,d)], model.durations[t])\n",
    "\n",
    "    sub.add(cdt[d] <= model.constraints.continuous_driving)\n",
    "    sub.add(tdt[d] <= model.constraints.total_driving)\n",
    "  "
   ]
  },
  {
   "cell_type": "code",
   "execution_count": 6,
   "metadata": {},
   "outputs": [],
   "source": [
    "obj = sub.sum([sub.presence_of(duty) for duty in duties])\n",
    "sub.add(sub.minimize(obj))"
   ]
  },
  {
   "cell_type": "code",
   "execution_count": 7,
   "metadata": {},
   "outputs": [],
   "source": [
    "cpsol = sub.solve()"
   ]
  },
  {
   "cell_type": "code",
   "execution_count": 17,
   "metadata": {},
   "outputs": [
    {
     "data": {
      "image/png": "[encoded data removed]",
      "text/plain": [
       "<Figure size 1080x216 with 4 Axes>"
      ]
     },
     "metadata": {
      "needs_background": "light"
     },
     "output_type": "display_data"
    }
   ],
   "source": [
    "rcParams['figure.figsize'] = 15, 3\n",
    "visu.timeline('Driver Scheduling', origin=min_start, horizon=max_end)\n",
    "for d in range(NDUTIES):\n",
    "    if cpsol[duties[d]]:\n",
    "        visu.panel()\n",
    "        _d = cpsol.get_var_solution(duties[d])\n",
    "        # visu.interval(_d, 'lightblue', duties[d].get_name())\n",
    "        visu.sequence(name=duties[d].get_name(),\n",
    "                      intervals=[(cpsol.get_var_solution(trip2duty[(t, d)]), d, str(t)) for t in range(NTRIPS) if cpsol[trip2duty[(t, d)]]])\n",
    "visu.show()\n"
   ]
  },
  {
   "cell_type": "code",
   "execution_count": 9,
   "metadata": {},
   "outputs": [
    {
     "data": {
      "text/plain": [
       "(40, 40)"
      ]
     },
     "execution_count": 9,
     "metadata": {},
     "output_type": "execute_result"
    }
   ],
   "source": [
    "trip2duty[0, 0].size"
   ]
  },
  {
   "cell_type": "code",
   "execution_count": 10,
   "metadata": {},
   "outputs": [],
   "source": [
    "cdt = step_at(0, 0)"
   ]
  },
  {
   "cell_type": "code",
   "execution_count": 13,
   "metadata": {},
   "outputs": [
    {
     "data": {
      "text/plain": [
       "<docplex.cp.expression.CpoFunctionCall at 0x2781d7bbcc0>"
      ]
     },
     "execution_count": 13,
     "metadata": {},
     "output_type": "execute_result"
    }
   ],
   "source": []
  },
  {
   "cell_type": "code",
   "execution_count": null,
   "metadata": {},
   "outputs": [],
   "source": [
    "cpsol.get_infos()"
   ]
  },
  {
   "cell_type": "code",
   "execution_count": null,
   "metadata": {},
   "outputs": [],
   "source": [
    "cpsol.get_objective_bounds()"
   ]
  },
  {
   "cell_type": "code",
   "execution_count": null,
   "metadata": {},
   "outputs": [],
   "source": [
    "cpsol.get_objective_gaps()"
   ]
  },
  {
   "cell_type": "code",
   "execution_count": null,
   "metadata": {},
   "outputs": [],
   "source": [
    "cpsol.get_parameters()"
   ]
  },
  {
   "cell_type": "code",
   "execution_count": null,
   "metadata": {},
   "outputs": [],
   "source": [
    "cpsol.get_search_status()"
   ]
  },
  {
   "cell_type": "code",
   "execution_count": null,
   "metadata": {},
   "outputs": [],
   "source": [
    "cpsol.get_solution()"
   ]
  },
  {
   "cell_type": "code",
   "execution_count": null,
   "metadata": {},
   "outputs": [],
   "source": [
    "cpsol.get_solve_status()"
   ]
  },
  {
   "cell_type": "code",
   "execution_count": null,
   "metadata": {},
   "outputs": [],
   "source": [
    "cpsol.get_value(trip2duty[8, 6])"
   ]
  },
  {
   "cell_type": "code",
   "execution_count": null,
   "metadata": {},
   "outputs": [],
   "source": [
    "cpsol.print_solution()"
   ]
  },
  {
   "cell_type": "code",
   "execution_count": null,
   "metadata": {},
   "outputs": [],
   "source": [
    "cpsol.process_infos"
   ]
  },
  {
   "cell_type": "code",
   "execution_count": null,
   "metadata": {},
   "outputs": [],
   "source": [
    "cpsol.write(\"C:/Users/aznavouridis.k/Desktop/test.txt\")"
   ]
  }
 ],
 "metadata": {
  "interpreter": {
   "hash": "4c3560e1e7e344a34c2ddceb3744e8e27368f831f72b20a58c0bb483a38979ad"
  },
  "kernelspec": {
   "display_name": "Python 3.8.11 64-bit ('opt': conda)",
   "name": "python3"
  },
  "language_info": {
   "codemirror_mode": {
    "name": "ipython",
    "version": 3
   },
   "file_extension": ".py",
   "mimetype": "text/x-python",
   "name": "python",
   "nbconvert_exporter": "python",
   "pygments_lexer": "ipython3",
   "version": "3.8.11"
  },
  "orig_nbformat": 4
 },
 "nbformat": 4,
 "nbformat_minor": 2
}
