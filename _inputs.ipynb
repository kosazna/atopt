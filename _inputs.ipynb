{
 "cells": [
  {
   "cell_type": "code",
   "execution_count": 3,
   "source": [
    "from utilities import *\r\n",
    "import pandas as pd"
   ],
   "outputs": [],
   "metadata": {}
  },
  {
   "cell_type": "code",
   "execution_count": 4,
   "source": [
    "data = \"D:/Google Drive/MSc MST-AUEB/_Thesis_/Main Thesis/Bus Timetable.xlsx\""
   ],
   "outputs": [],
   "metadata": {}
  },
  {
   "cell_type": "code",
   "execution_count": 5,
   "source": [
    "df = pd.read_excel(data, sheet_name='910')"
   ],
   "outputs": [],
   "metadata": {}
  },
  {
   "cell_type": "code",
   "execution_count": 7,
   "source": [
    "df['start time (hh:mm)'].apply(time2minutes)"
   ],
   "outputs": [
    {
     "output_type": "execute_result",
     "data": {
      "text/plain": [
       "0      300\n",
       "1      320\n",
       "2      355\n",
       "3      380\n",
       "4      400\n",
       "5      420\n",
       "6      435\n",
       "7      450\n",
       "8      465\n",
       "9      480\n",
       "10     495\n",
       "11     515\n",
       "12     530\n",
       "13     545\n",
       "14     565\n",
       "15     580\n",
       "16     595\n",
       "17     610\n",
       "18     625\n",
       "19     645\n",
       "20     660\n",
       "21     675\n",
       "22     695\n",
       "23     710\n",
       "24     725\n",
       "25     745\n",
       "26     760\n",
       "27     775\n",
       "28     795\n",
       "29     810\n",
       "30     825\n",
       "31     845\n",
       "32     860\n",
       "33     875\n",
       "34     895\n",
       "35     910\n",
       "36     925\n",
       "37     945\n",
       "38     960\n",
       "39     975\n",
       "40     995\n",
       "41    1010\n",
       "42    1025\n",
       "43    1045\n",
       "44    1060\n",
       "45    1080\n",
       "46    1105\n",
       "47    1130\n",
       "48    1150\n",
       "49    1170\n",
       "50    1190\n",
       "51    1215\n",
       "52    1240\n",
       "53    1270\n",
       "54    1305\n",
       "55    1345\n",
       "56    1385\n",
       "57    1420\n",
       "Name: start time (hh:mm), dtype: int64"
      ]
     },
     "metadata": {},
     "execution_count": 7
    }
   ],
   "metadata": {}
  }
 ],
 "metadata": {
  "orig_nbformat": 4,
  "language_info": {
   "name": "python",
   "version": "3.8.10",
   "mimetype": "text/x-python",
   "codemirror_mode": {
    "name": "ipython",
    "version": 3
   },
   "pygments_lexer": "ipython3",
   "nbconvert_exporter": "python",
   "file_extension": ".py"
  },
  "kernelspec": {
   "name": "python3",
   "display_name": "Python 3.8.10 64-bit ('atopt': conda)"
  },
  "interpreter": {
   "hash": "30b76737b47ce3d470b4fde264b950ba3bc26e4f5d012461593ceba8f25caf38"
  }
 },
 "nbformat": 4,
 "nbformat_minor": 2
}