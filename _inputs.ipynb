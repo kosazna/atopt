{
 "cells": [
  {
   "cell_type": "code",
   "execution_count": 1,
   "source": [
    "from utilities import *\r\n",
    "import pandas as pd"
   ],
   "outputs": [],
   "metadata": {}
  },
  {
   "cell_type": "code",
   "execution_count": 4,
   "source": [
    "datafile = \"D:/Google Drive/MSc MST-AUEB/_Thesis_/Main Thesis/Model Data.xlsx\"\r\n",
    "d = DataProvider(filepath=datafile, route='910')"
   ],
   "outputs": [],
   "metadata": {}
  },
  {
   "cell_type": "code",
   "execution_count": 5,
   "source": [
    "d.data.head()"
   ],
   "outputs": [
    {
     "output_type": "execute_result",
     "data": {
      "text/plain": [
       "     initial_depot final_depot  relief_point   time  trip_duration  \\\n",
       "trip                                                                 \n",
       "1         Akadimia       Voula           NaN  05:30             54   \n",
       "2         Akadimia       Voula           NaN  05:45             54   \n",
       "3         Akadimia       Voula           NaN  06:05             59   \n",
       "4         Akadimia       Voula           NaN  06:20             59   \n",
       "5         Akadimia       Voula           NaN  06:35             59   \n",
       "\n",
       "      start_time  end_time  \n",
       "trip                        \n",
       "1            330       384  \n",
       "2            345       399  \n",
       "3            365       424  \n",
       "4            380       439  \n",
       "5            395       454  "
      ],
      "text/html": [
       "<div>\n",
       "<style scoped>\n",
       "    .dataframe tbody tr th:only-of-type {\n",
       "        vertical-align: middle;\n",
       "    }\n",
       "\n",
       "    .dataframe tbody tr th {\n",
       "        vertical-align: top;\n",
       "    }\n",
       "\n",
       "    .dataframe thead th {\n",
       "        text-align: right;\n",
       "    }\n",
       "</style>\n",
       "<table border=\"1\" class=\"dataframe\">\n",
       "  <thead>\n",
       "    <tr style=\"text-align: right;\">\n",
       "      <th></th>\n",
       "      <th>initial_depot</th>\n",
       "      <th>final_depot</th>\n",
       "      <th>relief_point</th>\n",
       "      <th>time</th>\n",
       "      <th>trip_duration</th>\n",
       "      <th>start_time</th>\n",
       "      <th>end_time</th>\n",
       "    </tr>\n",
       "    <tr>\n",
       "      <th>trip</th>\n",
       "      <th></th>\n",
       "      <th></th>\n",
       "      <th></th>\n",
       "      <th></th>\n",
       "      <th></th>\n",
       "      <th></th>\n",
       "      <th></th>\n",
       "    </tr>\n",
       "  </thead>\n",
       "  <tbody>\n",
       "    <tr>\n",
       "      <th>1</th>\n",
       "      <td>Akadimia</td>\n",
       "      <td>Voula</td>\n",
       "      <td>NaN</td>\n",
       "      <td>05:30</td>\n",
       "      <td>54</td>\n",
       "      <td>330</td>\n",
       "      <td>384</td>\n",
       "    </tr>\n",
       "    <tr>\n",
       "      <th>2</th>\n",
       "      <td>Akadimia</td>\n",
       "      <td>Voula</td>\n",
       "      <td>NaN</td>\n",
       "      <td>05:45</td>\n",
       "      <td>54</td>\n",
       "      <td>345</td>\n",
       "      <td>399</td>\n",
       "    </tr>\n",
       "    <tr>\n",
       "      <th>3</th>\n",
       "      <td>Akadimia</td>\n",
       "      <td>Voula</td>\n",
       "      <td>NaN</td>\n",
       "      <td>06:05</td>\n",
       "      <td>59</td>\n",
       "      <td>365</td>\n",
       "      <td>424</td>\n",
       "    </tr>\n",
       "    <tr>\n",
       "      <th>4</th>\n",
       "      <td>Akadimia</td>\n",
       "      <td>Voula</td>\n",
       "      <td>NaN</td>\n",
       "      <td>06:20</td>\n",
       "      <td>59</td>\n",
       "      <td>380</td>\n",
       "      <td>439</td>\n",
       "    </tr>\n",
       "    <tr>\n",
       "      <th>5</th>\n",
       "      <td>Akadimia</td>\n",
       "      <td>Voula</td>\n",
       "      <td>NaN</td>\n",
       "      <td>06:35</td>\n",
       "      <td>59</td>\n",
       "      <td>395</td>\n",
       "      <td>454</td>\n",
       "    </tr>\n",
       "  </tbody>\n",
       "</table>\n",
       "</div>"
      ]
     },
     "metadata": {},
     "execution_count": 5
    }
   ],
   "metadata": {}
  }
 ],
 "metadata": {
  "orig_nbformat": 4,
  "language_info": {
   "name": "python",
   "version": "3.8.10",
   "mimetype": "text/x-python",
   "codemirror_mode": {
    "name": "ipython",
    "version": 3
   },
   "pygments_lexer": "ipython3",
   "nbconvert_exporter": "python",
   "file_extension": ".py"
  },
  "kernelspec": {
   "name": "python3",
   "display_name": "Python 3.8.10 64-bit ('atopt': conda)"
  },
  "interpreter": {
   "hash": "30b76737b47ce3d470b4fde264b950ba3bc26e4f5d012461593ceba8f25caf38"
  }
 },
 "nbformat": 4,
 "nbformat_minor": 2
}