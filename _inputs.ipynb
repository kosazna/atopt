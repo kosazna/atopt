{
 "cells": [
  {
   "cell_type": "code",
   "execution_count": 1,
   "source": [
    "from utilities import *\r\n",
    "from core.initial import Insertions\r\n",
    "from core.solver import CGCPSolver\r\n",
    "from docplex.cp.model import *\r\n",
    "from docplex.mp.model import Model\r\n",
    "import pandas as pd"
   ],
   "outputs": [],
   "metadata": {}
  },
  {
   "cell_type": "code",
   "execution_count": 2,
   "source": [
    "datafile = \"D:/Google Drive/MSc MST-AUEB/_Thesis_/Main Thesis/Model Data.xlsx\"\r\n",
    "d = DataProvider(filepath=datafile, route='910')\r\n",
    "model = CSPModel(d)\r\n",
    "model.build_model()\r\n",
    "initial = Insertions(model)\r\n",
    "initial.solve()\r\n",
    "s = CGCPSolver(initial.sol)"
   ],
   "outputs": [],
   "metadata": {}
  },
  {
   "cell_type": "code",
   "execution_count": null,
   "source": [
    "rmp = Model(name='Restricted_Master_Problem')\r\n",
    "\r\n",
    "rmp.trips = s.trips\r\n",
    "rmp.duties = s.duties\r\n",
    "\r\n",
    "rmp.trip_duty_arr = rmp.binary_var_matrix(s.trips, s.duties)"
   ],
   "outputs": [],
   "metadata": {}
  },
  {
   "cell_type": "code",
   "execution_count": null,
   "source": [
    "model.data"
   ],
   "outputs": [],
   "metadata": {}
  },
  {
   "cell_type": "code",
   "execution_count": null,
   "source": [
    "rmp.duty_arr = rmp.binary_var_list(rmp.duties, name='duty')"
   ],
   "outputs": [],
   "metadata": {}
  },
  {
   "cell_type": "code",
   "execution_count": null,
   "source": [
    "for trip in rmp.trips:\r\n",
    "    duty_ct = rmp.sum(rmp.trip_duty_arr[(trip, duty)] * rmp.duty_arr[duty.ID] for duty in rmp.duties) == 1\r\n",
    "    rmp.add_constraint(duty_ct)"
   ],
   "outputs": [],
   "metadata": {}
  },
  {
   "cell_type": "code",
   "execution_count": null,
   "source": [
    "rmp.minimize(rmp.sum(rmp.duty_arr[duty.ID] for duty in rmp.duties))"
   ],
   "outputs": [],
   "metadata": {}
  },
  {
   "cell_type": "code",
   "execution_count": null,
   "source": [
    "rmp.solve()"
   ],
   "outputs": [],
   "metadata": {}
  },
  {
   "cell_type": "code",
   "execution_count": null,
   "source": [],
   "outputs": [],
   "metadata": {}
  },
  {
   "cell_type": "code",
   "execution_count": 51,
   "source": [
    "sub = CpoModel(name=\"Pricing_Subproblem\")"
   ],
   "outputs": [],
   "metadata": {}
  },
  {
   "cell_type": "code",
   "execution_count": 29,
   "source": [
    "ntrips = len(model.trips)\r\n",
    "nduties = len(model.trips)"
   ],
   "outputs": [],
   "metadata": {}
  },
  {
   "cell_type": "code",
   "execution_count": null,
   "source": [
    "trips = [interval_var(start=trip.start_time,\r\n",
    "                      end=trip.end_time,\r\n",
    "                      size=trip.duration,\r\n",
    "                      name=f'Trip_{idx}') for idx, trip in enumerate(model.trips)]\r\n"
   ],
   "outputs": [],
   "metadata": {}
  },
  {
   "cell_type": "code",
   "execution_count": null,
   "source": [
    "model.start_time_arr"
   ],
   "outputs": [],
   "metadata": {}
  },
  {
   "cell_type": "code",
   "execution_count": 52,
   "source": [
    "duties = [interval_var(start=(model.data['start_time'].min(), model.data['start_time'].max()),\r\n",
    "                       end=(model.data['end_time'].min(),\r\n",
    "                            model.data['end_time'].max()),\r\n",
    "                       size=model.constraints.shift_span,\r\n",
    "                       name=f\"Duty_{i}\",\r\n",
    "                       optional=True) for i in range(nduties)]\r\n"
   ],
   "outputs": [],
   "metadata": {}
  },
  {
   "cell_type": "code",
   "execution_count": 53,
   "source": [
    "trip2trip = integer_var_list(ntrips, min=0, max=ntrips + 1, name='Trip2Trip')\r\n",
    "trip2duty = integer_var_list(ntrips, min=0, max=nduties, name='Trip2Duty')"
   ],
   "outputs": [],
   "metadata": {}
  },
  {
   "cell_type": "code",
   "execution_count": 54,
   "source": [
    "start_time = [[integer_var(min=0, max=model.constraints.shift_span, name=f\"StartTime-{i}-{j}\") for j in range (nduties)] for i in range(ntrips)]"
   ],
   "outputs": [],
   "metadata": {}
  },
  {
   "cell_type": "code",
   "execution_count": 55,
   "source": [
    "cdt = integer_var_list(nduties, min=0, max=model.constraints.continuous_driving, name=\"CDT\")\r\n",
    "tdt = integer_var_list(nduties, min=0, max=model.constraints.total_driving, name=\"TDT\")"
   ],
   "outputs": [],
   "metadata": {}
  },
  {
   "cell_type": "code",
   "execution_count": 56,
   "source": [
    "for i in range(ntrips):\r\n",
    "    for j in range(ntrips):\r\n",
    "        sub.add(sub.if_then(trip2trip[i] == j, model.end_time_arr[i] <= model.start_time_arr[j]))"
   ],
   "outputs": [],
   "metadata": {}
  },
  {
   "cell_type": "code",
   "execution_count": 57,
   "source": [
    "for i in range(ntrips):\r\n",
    "    for j in range(ntrips):\r\n",
    "        sub.add(sub.if_then(trip2trip[i] == j, model.end_loc_arr[i] <= model.start_loc_arr[j]))"
   ],
   "outputs": [],
   "metadata": {}
  },
  {
   "cell_type": "code",
   "execution_count": 58,
   "source": [
    "for i in range(ntrips):\r\n",
    "    sub.add(trip2trip[i] != i)"
   ],
   "outputs": [],
   "metadata": {}
  },
  {
   "cell_type": "code",
   "execution_count": 59,
   "source": [
    "for i in range(ntrips):\r\n",
    "    for j in range(ntrips):\r\n",
    "        sub.add(sub.if_then(trip2trip[i] == j, trip2duty[i] == trip2duty[j]))"
   ],
   "outputs": [],
   "metadata": {}
  },
  {
   "cell_type": "code",
   "execution_count": 48,
   "source": [],
   "outputs": [],
   "metadata": {}
  },
  {
   "cell_type": "code",
   "execution_count": null,
   "source": [
    "for i in range(ntrips):\r\n",
    "    sub.add(trip2trip[i] != 0)\r\n",
    "    # sub.add(sum([trip2trip[j] == i for j in range(ntrips+1)]) == 1)"
   ],
   "outputs": [],
   "metadata": {}
  },
  {
   "cell_type": "code",
   "execution_count": 11,
   "source": [
    "for i in range(ntrips-1):\r\n",
    "    for j in range(i + 1, ntrips):\r\n",
    "        sub.add(end_before_start(trips[i], trips[j]))"
   ],
   "outputs": [
    {
     "output_type": "error",
     "ename": "NameError",
     "evalue": "name 'trips' is not defined",
     "traceback": [
      "\u001b[1;31m---------------------------------------------------------------------------\u001b[0m",
      "\u001b[1;31mNameError\u001b[0m                                 Traceback (most recent call last)",
      "\u001b[1;32mC:\\Users\\AZNAVO~1.K\\AppData\\Local\\Temp/ipykernel_6920/1192400018.py\u001b[0m in \u001b[0;36m<module>\u001b[1;34m\u001b[0m\n\u001b[0;32m      1\u001b[0m \u001b[1;32mfor\u001b[0m \u001b[0mi\u001b[0m \u001b[1;32min\u001b[0m \u001b[0mrange\u001b[0m\u001b[1;33m(\u001b[0m\u001b[0mntrips\u001b[0m\u001b[1;33m-\u001b[0m\u001b[1;36m1\u001b[0m\u001b[1;33m)\u001b[0m\u001b[1;33m:\u001b[0m\u001b[1;33m\u001b[0m\u001b[1;33m\u001b[0m\u001b[0m\n\u001b[0;32m      2\u001b[0m     \u001b[1;32mfor\u001b[0m \u001b[0mj\u001b[0m \u001b[1;32min\u001b[0m \u001b[0mrange\u001b[0m\u001b[1;33m(\u001b[0m\u001b[0mi\u001b[0m \u001b[1;33m+\u001b[0m \u001b[1;36m1\u001b[0m\u001b[1;33m,\u001b[0m \u001b[0mntrips\u001b[0m\u001b[1;33m)\u001b[0m\u001b[1;33m:\u001b[0m\u001b[1;33m\u001b[0m\u001b[1;33m\u001b[0m\u001b[0m\n\u001b[1;32m----> 3\u001b[1;33m         \u001b[0msub\u001b[0m\u001b[1;33m.\u001b[0m\u001b[0madd\u001b[0m\u001b[1;33m(\u001b[0m\u001b[0mend_before_start\u001b[0m\u001b[1;33m(\u001b[0m\u001b[0mtrips\u001b[0m\u001b[1;33m[\u001b[0m\u001b[0mi\u001b[0m\u001b[1;33m]\u001b[0m\u001b[1;33m,\u001b[0m \u001b[0mtrips\u001b[0m\u001b[1;33m[\u001b[0m\u001b[0mj\u001b[0m\u001b[1;33m]\u001b[0m\u001b[1;33m)\u001b[0m\u001b[1;33m)\u001b[0m\u001b[1;33m\u001b[0m\u001b[1;33m\u001b[0m\u001b[0m\n\u001b[0m",
      "\u001b[1;31mNameError\u001b[0m: name 'trips' is not defined"
     ]
    }
   ],
   "metadata": {}
  },
  {
   "cell_type": "code",
   "execution_count": null,
   "source": [],
   "outputs": [],
   "metadata": {}
  },
  {
   "cell_type": "code",
   "execution_count": null,
   "source": [
    "has_break = [[binary_var(name=f'Break_{i}_{j}') for j in range(nduties)] for i in range(ntrips)]\r\n",
    "has_rest = [[binary_var(name=f'Rest_{i}_{j}') for j in range(nduties)] for i in range(ntrips)]"
   ],
   "outputs": [],
   "metadata": {}
  },
  {
   "cell_type": "code",
   "execution_count": null,
   "source": [],
   "outputs": [],
   "metadata": {}
  },
  {
   "cell_type": "code",
   "execution_count": null,
   "source": [
    "trip_seq = sequence_var(trips)"
   ],
   "outputs": [],
   "metadata": {}
  },
  {
   "cell_type": "code",
   "execution_count": 60,
   "source": [
    "msol = sub.solve()"
   ],
   "outputs": [
    {
     "output_type": "stream",
     "name": "stdout",
     "text": [
      " ! --------------------------------------------------- CP Optimizer 20.1.0.0 --\n",
      " ! Satisfiability problem - 116 variables, 10150 constraints\n",
      " ! Initial process time : 0.06s (0.06s extraction + 0.01s propagation)\n",
      " !  . Log search space  : 600.2 (before), 600.2 (after)\n",
      " !  . Memory usage      : 2.5 MB (before), 2.5 MB (after)\n",
      " ! Using parallel search with 4 workers.\n",
      " ! ----------------------------------------------------------------------------\n",
      " !               Branches  Non-fixed    W       Branch decision\n",
      " *                     69  0.09s        1         4  = Trip2Duty_13\n",
      " ! ----------------------------------------------------------------------------\n",
      " ! Search completed, 1 solution found.\n",
      " ! ----------------------------------------------------------------------------\n",
      " ! Number of branches     : 272\n",
      " ! Number of fails        : 0\n",
      " ! Total memory usage     : 16.0 MB (16.0 MB CP Optimizer + 0.0 MB Concert)\n",
      " ! Time spent in solve    : 0.09s (0.04s engine + 0.06s extraction)\n",
      " ! Search speed (br. / s) : 8774.2\n",
      " ! ----------------------------------------------------------------------------\n"
     ]
    }
   ],
   "metadata": {}
  },
  {
   "cell_type": "code",
   "execution_count": 61,
   "source": [
    "sduties = []\r\n",
    "for i in range(ntrips):\r\n",
    "    print(str(i)+\" to \"+str(msol[trip2trip[i]]) + ' - ' + str(msol[trip2duty[i]]))\r\n",
    "    duties.append(str(msol[trip2duty[i]]))\r\n",
    "\r\n",
    "print(set(sduties))"
   ],
   "outputs": [
    {
     "output_type": "stream",
     "name": "stdout",
     "text": [
      "0 to 39 - 44\n",
      "1 to 45 - 38\n",
      "2 to 35 - 38\n",
      "3 to 45 - 38\n",
      "4 to 25 - 39\n",
      "5 to 35 - 38\n",
      "6 to 12 - 50\n",
      "7 to 15 - 38\n",
      "8 to 46 - 4\n",
      "9 to 18 - 22\n",
      "10 to 41 - 22\n",
      "11 to 51 - 38\n",
      "12 to 34 - 50\n",
      "13 to 59 - 4\n",
      "14 to 36 - 46\n",
      "15 to 57 - 38\n",
      "16 to 28 - 39\n",
      "17 to 40 - 22\n",
      "18 to 41 - 22\n",
      "19 to 34 - 50\n",
      "20 to 29 - 22\n",
      "21 to 35 - 38\n",
      "22 to 42 - 22\n",
      "23 to 54 - 39\n",
      "24 to 57 - 38\n",
      "25 to 54 - 39\n",
      "26 to 51 - 38\n",
      "27 to 55 - 22\n",
      "28 to 54 - 39\n",
      "29 to 41 - 22\n",
      "30 to 50 - 4\n",
      "31 to 48 - 22\n",
      "32 to 54 - 39\n",
      "33 to 44 - 22\n",
      "34 to 53 - 50\n",
      "35 to 51 - 38\n",
      "36 to 59 - 46\n",
      "37 to 59 - 51\n",
      "38 to 53 - 50\n",
      "39 to 58 - 44\n",
      "40 to 55 - 22\n",
      "41 to 56 - 22\n",
      "42 to 55 - 22\n",
      "43 to 46 - 4\n",
      "44 to 56 - 22\n",
      "45 to 51 - 38\n",
      "46 to 50 - 4\n",
      "47 to 50 - 4\n",
      "48 to 59 - 22\n",
      "49 to 52 - 4\n",
      "50 to 52 - 4\n",
      "51 to 57 - 38\n",
      "52 to 59 - 4\n",
      "53 to 59 - 50\n",
      "54 to 58 - 39\n",
      "55 to 56 - 22\n",
      "56 to 58 - 22\n",
      "57 to 58 - 38\n",
      "set()\n"
     ]
    }
   ],
   "metadata": {}
  },
  {
   "cell_type": "code",
   "execution_count": null,
   "source": [
    "td_matrix = {}\r\n",
    "for trip in model.trips:\r\n",
    "    for duty in range(ntrips):\r\n",
    "        td_matrix[(trip.ID, duty)] = binary_var(name=f\"T{trip.ID}-D{duty}\")"
   ],
   "outputs": [],
   "metadata": {}
  },
  {
   "cell_type": "code",
   "execution_count": null,
   "source": [
    "end_of(trips[0]).equals(trips[1])"
   ],
   "outputs": [],
   "metadata": {}
  },
  {
   "cell_type": "code",
   "execution_count": null,
   "source": [
    "INTERVAL_MAX"
   ],
   "outputs": [],
   "metadata": {}
  }
 ],
 "metadata": {
  "orig_nbformat": 4,
  "language_info": {
   "name": "python",
   "version": "3.8.10",
   "mimetype": "text/x-python",
   "codemirror_mode": {
    "name": "ipython",
    "version": 3
   },
   "pygments_lexer": "ipython3",
   "nbconvert_exporter": "python",
   "file_extension": ".py"
  },
  "kernelspec": {
   "name": "python3",
   "display_name": "Python 3.8.10 64-bit ('atopt': conda)"
  },
  "interpreter": {
   "hash": "30b76737b47ce3d470b4fde264b950ba3bc26e4f5d012461593ceba8f25caf38"
  }
 },
 "nbformat": 4,
 "nbformat_minor": 2
}