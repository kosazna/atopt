{
 "cells": [
  {
   "cell_type": "code",
   "execution_count": 1,
   "source": [
    "from utilities import *\r\n",
    "from core.initial import Insertions\r\n",
    "import pandas as pd"
   ],
   "outputs": [],
   "metadata": {}
  },
  {
   "cell_type": "code",
   "execution_count": 2,
   "source": [
    "datafile = \"D:/Google Drive/MSc MST-AUEB/_Thesis_/Main Thesis/Model Data.xlsx\"\r\n",
    "d = DataProvider(filepath=datafile, route='A2')\r\n",
    "model = Model(d)\r\n",
    "model.build_model()"
   ],
   "outputs": [],
   "metadata": {}
  },
  {
   "cell_type": "code",
   "execution_count": 3,
   "source": [
    "sol = Insertions(model)"
   ],
   "outputs": [],
   "metadata": {}
  },
  {
   "cell_type": "code",
   "execution_count": 4,
   "source": [
    "sol.solve()"
   ],
   "outputs": [],
   "metadata": {}
  },
  {
   "cell_type": "code",
   "execution_count": 5,
   "source": [
    "sol.sol.trip_duty_arr"
   ],
   "outputs": [
    {
     "output_type": "execute_result",
     "data": {
      "text/plain": [
       "array([[1, 0, 0, ..., 0, 0, 0],\n",
       "       [0, 0, 1, ..., 0, 0, 0],\n",
       "       [0, 0, 0, ..., 0, 0, 0],\n",
       "       ...,\n",
       "       [0, 0, 0, ..., 0, 0, 0],\n",
       "       [0, 0, 0, ..., 0, 0, 0],\n",
       "       [0, 0, 0, ..., 0, 0, 0]])"
      ]
     },
     "metadata": {},
     "execution_count": 5
    }
   ],
   "metadata": {}
  },
  {
   "cell_type": "code",
   "execution_count": 6,
   "source": [
    "for duty in sol.duties:\r\n",
    "    print(duty)"
   ],
   "outputs": [
    {
     "output_type": "stream",
     "name": "stdout",
     "text": [
      "Duty(ID=1, start=330, end=444, trips=2, driving_time=113, rests=1 breaks=0, trips=1-3\n",
      "Duty(ID=3, start=345, end=464, trips=2, driving_time=113, rests=1 breaks=0, trips=2-4\n",
      "Duty(ID=5, start=365, end=489, trips=2, driving_time=123, rests=1 breaks=0, trips=3-5\n",
      "Duty(ID=7, start=380, end=509, trips=2, driving_time=123, rests=1 breaks=0, trips=4-6\n",
      "Duty(ID=9, start=395, end=524, trips=2, driving_time=123, rests=1 breaks=0, trips=5-7\n",
      "Duty(ID=11, start=410, end=550, trips=2, driving_time=129, rests=1 breaks=0, trips=6-8\n",
      "Duty(ID=13, start=435, end=575, trips=2, driving_time=134, rests=1 breaks=0, trips=7-10\n",
      "Duty(ID=15, start=440, end=585, trips=2, driving_time=134, rests=1 breaks=0, trips=8-11\n",
      "Duty(ID=17, start=450, end=595, trips=2, driving_time=134, rests=1 breaks=0, trips=9-12\n",
      "Duty(ID=19, start=460, end=605, trips=2, driving_time=134, rests=1 breaks=0, trips=10-13\n",
      "Duty(ID=21, start=470, end=615, trips=2, driving_time=134, rests=1 breaks=0, trips=11-14\n",
      "Duty(ID=23, start=480, end=625, trips=2, driving_time=140, rests=1 breaks=0, trips=12-15\n",
      "Duty(ID=25, start=490, end=635, trips=2, driving_time=140, rests=1 breaks=0, trips=13-16\n",
      "Duty(ID=27, start=500, end=645, trips=2, driving_time=140, rests=1 breaks=0, trips=14-17\n",
      "Duty(ID=29, start=515, end=655, trips=2, driving_time=140, rests=1 breaks=0, trips=15-18\n",
      "Duty(ID=31, start=530, end=659, trips=2, driving_time=129, rests=1 breaks=0, trips=16-19\n",
      "Duty(ID=33, start=550, end=679, trips=2, driving_time=129, rests=1 breaks=0, trips=17-21\n",
      "Duty(ID=35, start=565, end=694, trips=2, driving_time=129, rests=1 breaks=0, trips=18-22\n",
      "Duty(ID=37, start=575, end=709, trips=2, driving_time=129, rests=1 breaks=0, trips=19-23\n",
      "Duty(ID=39, start=585, end=719, trips=2, driving_time=129, rests=1 breaks=0, trips=20-24\n",
      "Duty(ID=41, start=605, end=24, trips=2, driving_time=113, rests=1 breaks=0, trips=21-76\n",
      "Duty(ID=43, start=615, end=674, trips=1, driving_time=59, rests=0 breaks=0, trips=22\n",
      "Duty(ID=44, start=625, end=684, trips=1, driving_time=59, rests=0 breaks=0, trips=23\n",
      "Duty(ID=45, start=635, end=694, trips=1, driving_time=59, rests=0 breaks=0, trips=24\n",
      "Duty(ID=46, start=645, end=704, trips=1, driving_time=59, rests=0 breaks=0, trips=25\n",
      "Duty(ID=47, start=655, end=714, trips=1, driving_time=59, rests=0 breaks=0, trips=26\n",
      "Duty(ID=48, start=665, end=724, trips=1, driving_time=59, rests=0 breaks=0, trips=27\n",
      "Duty(ID=49, start=675, end=734, trips=1, driving_time=59, rests=0 breaks=0, trips=28\n",
      "Duty(ID=50, start=685, end=744, trips=1, driving_time=59, rests=0 breaks=0, trips=29\n",
      "Duty(ID=51, start=700, end=759, trips=1, driving_time=59, rests=0 breaks=0, trips=30\n",
      "Duty(ID=52, start=720, end=779, trips=1, driving_time=59, rests=0 breaks=0, trips=31\n",
      "Duty(ID=53, start=735, end=794, trips=1, driving_time=59, rests=0 breaks=0, trips=32\n",
      "Duty(ID=54, start=745, end=804, trips=1, driving_time=59, rests=0 breaks=0, trips=33\n",
      "Duty(ID=55, start=760, end=819, trips=1, driving_time=59, rests=0 breaks=0, trips=34\n",
      "Duty(ID=56, start=770, end=829, trips=1, driving_time=59, rests=0 breaks=0, trips=35\n",
      "Duty(ID=57, start=785, end=844, trips=1, driving_time=59, rests=0 breaks=0, trips=36\n",
      "Duty(ID=58, start=795, end=854, trips=1, driving_time=59, rests=0 breaks=0, trips=37\n",
      "Duty(ID=59, start=810, end=869, trips=1, driving_time=59, rests=0 breaks=0, trips=38\n",
      "Duty(ID=60, start=820, end=879, trips=1, driving_time=59, rests=0 breaks=0, trips=39\n",
      "Duty(ID=61, start=835, end=894, trips=1, driving_time=59, rests=0 breaks=0, trips=40\n",
      "Duty(ID=62, start=850, end=914, trips=1, driving_time=64, rests=0 breaks=0, trips=41\n",
      "Duty(ID=63, start=860, end=924, trips=1, driving_time=64, rests=0 breaks=0, trips=42\n",
      "Duty(ID=64, start=875, end=939, trips=1, driving_time=64, rests=0 breaks=0, trips=43\n",
      "Duty(ID=65, start=885, end=949, trips=1, driving_time=64, rests=0 breaks=0, trips=44\n",
      "Duty(ID=66, start=900, end=964, trips=1, driving_time=64, rests=0 breaks=0, trips=45\n",
      "Duty(ID=67, start=910, end=974, trips=1, driving_time=64, rests=0 breaks=0, trips=46\n",
      "Duty(ID=68, start=925, end=989, trips=1, driving_time=64, rests=0 breaks=0, trips=47\n",
      "Duty(ID=69, start=935, end=999, trips=1, driving_time=64, rests=0 breaks=0, trips=48\n",
      "Duty(ID=70, start=950, end=1014, trips=1, driving_time=64, rests=0 breaks=0, trips=49\n",
      "Duty(ID=71, start=960, end=1030, trips=1, driving_time=70, rests=0 breaks=0, trips=50\n",
      "Duty(ID=72, start=975, end=1045, trips=1, driving_time=70, rests=0 breaks=0, trips=51\n",
      "Duty(ID=73, start=990, end=1060, trips=1, driving_time=70, rests=0 breaks=0, trips=52\n",
      "Duty(ID=74, start=1000, end=1070, trips=1, driving_time=70, rests=0 breaks=0, trips=53\n",
      "Duty(ID=75, start=1015, end=1085, trips=1, driving_time=70, rests=0 breaks=0, trips=54\n",
      "Duty(ID=76, start=1025, end=1095, trips=1, driving_time=70, rests=0 breaks=0, trips=55\n",
      "Duty(ID=77, start=1040, end=1110, trips=1, driving_time=70, rests=0 breaks=0, trips=56\n",
      "Duty(ID=78, start=1055, end=1125, trips=1, driving_time=70, rests=0 breaks=0, trips=57\n",
      "Duty(ID=79, start=1065, end=1135, trips=1, driving_time=70, rests=0 breaks=0, trips=58\n",
      "Duty(ID=80, start=1075, end=1145, trips=1, driving_time=70, rests=0 breaks=0, trips=59\n",
      "Duty(ID=81, start=1090, end=1149, trips=1, driving_time=59, rests=0 breaks=0, trips=60\n",
      "Duty(ID=82, start=1105, end=1164, trips=1, driving_time=59, rests=0 breaks=0, trips=61\n",
      "Duty(ID=83, start=1120, end=1179, trips=1, driving_time=59, rests=0 breaks=0, trips=62\n",
      "Duty(ID=84, start=1140, end=1199, trips=1, driving_time=59, rests=0 breaks=0, trips=63\n",
      "Duty(ID=85, start=1165, end=1224, trips=1, driving_time=59, rests=0 breaks=0, trips=64\n",
      "Duty(ID=86, start=1185, end=1244, trips=1, driving_time=59, rests=0 breaks=0, trips=65\n",
      "Duty(ID=87, start=1200, end=1259, trips=1, driving_time=59, rests=0 breaks=0, trips=66\n",
      "Duty(ID=88, start=1215, end=1274, trips=1, driving_time=59, rests=0 breaks=0, trips=67\n",
      "Duty(ID=89, start=1235, end=1294, trips=1, driving_time=59, rests=0 breaks=0, trips=68\n",
      "Duty(ID=90, start=1255, end=1314, trips=1, driving_time=59, rests=0 breaks=0, trips=69\n",
      "Duty(ID=91, start=1275, end=1329, trips=1, driving_time=54, rests=0 breaks=0, trips=70\n",
      "Duty(ID=92, start=1300, end=1354, trips=1, driving_time=54, rests=0 breaks=0, trips=71\n",
      "Duty(ID=93, start=1325, end=1379, trips=1, driving_time=54, rests=0 breaks=0, trips=72\n",
      "Duty(ID=94, start=1355, end=1409, trips=1, driving_time=54, rests=0 breaks=0, trips=73\n",
      "Duty(ID=95, start=1385, end=1439, trips=1, driving_time=54, rests=0 breaks=0, trips=74\n",
      "Duty(ID=96, start=1415, end=389, trips=2, driving_time=108, rests=1 breaks=0, trips=75-1\n",
      "Duty(ID=98, start=350, end=404, trips=1, driving_time=54, rests=0 breaks=0, trips=2\n",
      "Duty(ID=99, start=495, end=565, trips=1, driving_time=70, rests=0 breaks=0, trips=9\n",
      "Duty(ID=100, start=610, end=669, trips=1, driving_time=59, rests=0 breaks=0, trips=20\n",
      "Duty(ID=101, start=670, end=729, trips=1, driving_time=59, rests=0 breaks=0, trips=25\n",
      "Duty(ID=102, start=690, end=749, trips=1, driving_time=59, rests=0 breaks=0, trips=26\n",
      "Duty(ID=103, start=705, end=764, trips=1, driving_time=59, rests=0 breaks=0, trips=27\n",
      "Duty(ID=104, start=720, end=779, trips=1, driving_time=59, rests=0 breaks=0, trips=28\n",
      "Duty(ID=105, start=730, end=789, trips=1, driving_time=59, rests=0 breaks=0, trips=29\n",
      "Duty(ID=106, start=740, end=799, trips=1, driving_time=59, rests=0 breaks=0, trips=30\n",
      "Duty(ID=107, start=750, end=809, trips=1, driving_time=59, rests=0 breaks=0, trips=31\n",
      "Duty(ID=108, start=765, end=824, trips=1, driving_time=59, rests=0 breaks=0, trips=32\n",
      "Duty(ID=109, start=780, end=839, trips=1, driving_time=59, rests=0 breaks=0, trips=33\n",
      "Duty(ID=110, start=790, end=849, trips=1, driving_time=59, rests=0 breaks=0, trips=34\n",
      "Duty(ID=111, start=805, end=864, trips=1, driving_time=59, rests=0 breaks=0, trips=35\n",
      "Duty(ID=112, start=815, end=874, trips=1, driving_time=59, rests=0 breaks=0, trips=36\n",
      "Duty(ID=113, start=830, end=889, trips=1, driving_time=59, rests=0 breaks=0, trips=37\n",
      "Duty(ID=114, start=840, end=904, trips=1, driving_time=64, rests=0 breaks=0, trips=38\n",
      "Duty(ID=115, start=855, end=919, trips=1, driving_time=64, rests=0 breaks=0, trips=39\n",
      "Duty(ID=116, start=865, end=929, trips=1, driving_time=64, rests=0 breaks=0, trips=40\n",
      "Duty(ID=117, start=880, end=944, trips=1, driving_time=64, rests=0 breaks=0, trips=41\n",
      "Duty(ID=118, start=890, end=954, trips=1, driving_time=64, rests=0 breaks=0, trips=42\n",
      "Duty(ID=119, start=905, end=969, trips=1, driving_time=64, rests=0 breaks=0, trips=43\n",
      "Duty(ID=120, start=920, end=984, trips=1, driving_time=64, rests=0 breaks=0, trips=44\n",
      "Duty(ID=121, start=930, end=994, trips=1, driving_time=64, rests=0 breaks=0, trips=45\n",
      "Duty(ID=122, start=945, end=1009, trips=1, driving_time=64, rests=0 breaks=0, trips=46\n",
      "Duty(ID=123, start=955, end=1019, trips=1, driving_time=64, rests=0 breaks=0, trips=47\n",
      "Duty(ID=124, start=970, end=1040, trips=1, driving_time=70, rests=0 breaks=0, trips=48\n",
      "Duty(ID=125, start=985, end=1055, trips=1, driving_time=70, rests=0 breaks=0, trips=49\n",
      "Duty(ID=126, start=1000, end=1070, trips=1, driving_time=70, rests=0 breaks=0, trips=50\n",
      "Duty(ID=127, start=1015, end=1085, trips=1, driving_time=70, rests=0 breaks=0, trips=51\n",
      "Duty(ID=128, start=1030, end=1100, trips=1, driving_time=70, rests=0 breaks=0, trips=52\n",
      "Duty(ID=129, start=1045, end=1115, trips=1, driving_time=70, rests=0 breaks=0, trips=53\n",
      "Duty(ID=130, start=1060, end=1130, trips=1, driving_time=70, rests=0 breaks=0, trips=54\n",
      "Duty(ID=131, start=1075, end=1145, trips=1, driving_time=70, rests=0 breaks=0, trips=55\n",
      "Duty(ID=132, start=1100, end=1159, trips=1, driving_time=59, rests=0 breaks=0, trips=56\n",
      "Duty(ID=133, start=1105, end=1164, trips=1, driving_time=59, rests=0 breaks=0, trips=57\n",
      "Duty(ID=134, start=1120, end=1179, trips=1, driving_time=59, rests=0 breaks=0, trips=58\n",
      "Duty(ID=135, start=1135, end=1194, trips=1, driving_time=59, rests=0 breaks=0, trips=59\n",
      "Duty(ID=136, start=1150, end=1209, trips=1, driving_time=59, rests=0 breaks=0, trips=60\n",
      "Duty(ID=137, start=1165, end=1224, trips=1, driving_time=59, rests=0 breaks=0, trips=61\n",
      "Duty(ID=138, start=1180, end=1239, trips=1, driving_time=59, rests=0 breaks=0, trips=62\n",
      "Duty(ID=139, start=1190, end=1249, trips=1, driving_time=59, rests=0 breaks=0, trips=63\n",
      "Duty(ID=140, start=1200, end=1259, trips=1, driving_time=59, rests=0 breaks=0, trips=64\n",
      "Duty(ID=141, start=1210, end=1269, trips=1, driving_time=59, rests=0 breaks=0, trips=65\n",
      "Duty(ID=142, start=1225, end=1284, trips=1, driving_time=59, rests=0 breaks=0, trips=66\n",
      "Duty(ID=143, start=1245, end=1304, trips=1, driving_time=59, rests=0 breaks=0, trips=67\n",
      "Duty(ID=144, start=1260, end=1314, trips=1, driving_time=54, rests=0 breaks=0, trips=68\n",
      "Duty(ID=145, start=1275, end=1329, trips=1, driving_time=54, rests=0 breaks=0, trips=69\n",
      "Duty(ID=146, start=1285, end=1339, trips=1, driving_time=54, rests=0 breaks=0, trips=70\n",
      "Duty(ID=147, start=1300, end=1354, trips=1, driving_time=54, rests=0 breaks=0, trips=71\n",
      "Duty(ID=148, start=1315, end=1369, trips=1, driving_time=54, rests=0 breaks=0, trips=72\n",
      "Duty(ID=149, start=1335, end=1389, trips=1, driving_time=54, rests=0 breaks=0, trips=73\n",
      "Duty(ID=150, start=1360, end=1414, trips=1, driving_time=54, rests=0 breaks=0, trips=74\n",
      "Duty(ID=151, start=1385, end=1439, trips=1, driving_time=54, rests=0 breaks=0, trips=75\n",
      "Duty(ID=152, start=0, end=54, trips=1, driving_time=54, rests=0 breaks=0, trips=77\n"
     ]
    }
   ],
   "metadata": {}
  },
  {
   "cell_type": "code",
   "execution_count": null,
   "source": [
    "B = 9\r\n",
    "w = [2,3,4,5,6,7,8]\r\n",
    "q = [4,2,6,6,2,2,2]\r\n",
    "s=[]\r\n",
    "\r\n",
    "for j in range(len(w)):\r\n",
    "    for i in range(q[j]):\r\n",
    "        s.append(w[j])\r\n",
    "\r\n",
    "print(s)\r\n",
    "print(B)"
   ],
   "outputs": [],
   "metadata": {}
  }
 ],
 "metadata": {
  "orig_nbformat": 4,
  "language_info": {
   "name": "python",
   "version": "3.8.10",
   "mimetype": "text/x-python",
   "codemirror_mode": {
    "name": "ipython",
    "version": 3
   },
   "pygments_lexer": "ipython3",
   "nbconvert_exporter": "python",
   "file_extension": ".py"
  },
  "kernelspec": {
   "name": "python3",
   "display_name": "Python 3.8.10 64-bit ('atopt': conda)"
  },
  "interpreter": {
   "hash": "30b76737b47ce3d470b4fde264b950ba3bc26e4f5d012461593ceba8f25caf38"
  }
 },
 "nbformat": 4,
 "nbformat_minor": 2
}