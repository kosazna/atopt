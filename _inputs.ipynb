{
 "cells": [
  {
   "cell_type": "code",
   "execution_count": 1,
   "source": [
    "from utilities import *\r\n",
    "from core.initial import Insertions\r\n",
    "from core.solver import CGCPSolver\r\n",
    "from docplex.cp.model import *\r\n",
    "from docplex.mp.model import Model\r\n",
    "import pandas as pd"
   ],
   "outputs": [],
   "metadata": {}
  },
  {
   "cell_type": "code",
   "execution_count": 2,
   "source": [
    "datafile = \"D:/Google Drive/MSc MST-AUEB/_Thesis_/Main Thesis/Model Data.xlsx\"\r\n",
    "d = DataProvider(filepath=datafile, route='910')\r\n",
    "model = CSPModel(d)\r\n",
    "model.build_model()\r\n",
    "initial = Insertions(model)\r\n",
    "initial.solve()\r\n",
    "s = CGCPSolver(initial.sol)"
   ],
   "outputs": [],
   "metadata": {}
  },
  {
   "cell_type": "code",
   "execution_count": null,
   "source": [
    "rmp = Model(name='Restricted_Master_Problem')\r\n",
    "\r\n",
    "rmp.trips = s.trips\r\n",
    "rmp.duties = s.duties\r\n",
    "\r\n",
    "rmp.trip_duty_arr = rmp.binary_var_matrix(s.trips, s.duties)"
   ],
   "outputs": [],
   "metadata": {}
  },
  {
   "cell_type": "code",
   "execution_count": null,
   "source": [
    "rmp.duty_arr = rmp.binary_var_list(rmp.duties, name='duty')"
   ],
   "outputs": [],
   "metadata": {}
  },
  {
   "cell_type": "code",
   "execution_count": null,
   "source": [
    "for trip in rmp.trips:\r\n",
    "    duty_ct = rmp.sum(rmp.trip_duty_arr[(trip, duty)] * rmp.duty_arr[duty.ID] for duty in rmp.duties) == 1\r\n",
    "    rmp.add_constraint(duty_ct)"
   ],
   "outputs": [],
   "metadata": {}
  },
  {
   "cell_type": "code",
   "execution_count": null,
   "source": [
    "rmp.minimize(rmp.sum(rmp.duty_arr[duty.ID] for duty in rmp.duties))"
   ],
   "outputs": [],
   "metadata": {}
  },
  {
   "cell_type": "code",
   "execution_count": null,
   "source": [
    "rmp.solve()"
   ],
   "outputs": [],
   "metadata": {}
  },
  {
   "cell_type": "code",
   "execution_count": null,
   "source": [],
   "outputs": [],
   "metadata": {}
  },
  {
   "cell_type": "code",
   "execution_count": 3,
   "source": [
    "sub = CpoModel(name=\"Pricing_Subproblem\")"
   ],
   "outputs": [],
   "metadata": {}
  },
  {
   "cell_type": "code",
   "execution_count": 4,
   "source": [
    "ntrips = len(model.trips)\r\n",
    "nduties = len(model.trips)"
   ],
   "outputs": [],
   "metadata": {}
  },
  {
   "cell_type": "code",
   "execution_count": 5,
   "source": [
    "trips = [interval_var(start=trip.start_time,\r\n",
    "                      end=trip.end_time,\r\n",
    "                      length=trip.duration,\r\n",
    "                      size=trip.duration,\r\n",
    "                      name=f'Trip_{idx}') for idx, trip in enumerate(model.trips)]\r\n"
   ],
   "outputs": [],
   "metadata": {}
  },
  {
   "cell_type": "code",
   "execution_count": 6,
   "source": [
    "duties = [interval_var(length=model.constraints.shift_span,\r\n",
    "                       size=model.constraints.shift_span,\r\n",
    "                       name=f\"Duty_{i}\") for i in range(nduties)]\r\n",
    "\r\n",
    "perform_duty = binary_var_list(nduties, name='Duty')\r\n"
   ],
   "outputs": [],
   "metadata": {}
  },
  {
   "cell_type": "code",
   "execution_count": 7,
   "source": [
    "has_break = [[binary_var(name=f'Break_{i}_{j}') for j in range(nduties)] for i in range(ntrips)]\r\n",
    "has_rest = [[binary_var(name=f'Rest_{i}_{j}') for j in range(nduties)] for i in range(ntrips)]"
   ],
   "outputs": [],
   "metadata": {}
  },
  {
   "cell_type": "code",
   "execution_count": 8,
   "source": [
    "cdt = integer_var_list(nduties, min=0, max=model.constraints.continuous_driving, name=\"CDT\")\r\n",
    "tdt = integer_var_list(nduties, min=0, max=model.constraints.continuous_driving, name=\"TDT\")"
   ],
   "outputs": [],
   "metadata": {}
  },
  {
   "cell_type": "code",
   "execution_count": null,
   "source": [],
   "outputs": [],
   "metadata": {}
  },
  {
   "cell_type": "code",
   "execution_count": null,
   "source": [
    "for i in range(ntrips-1):\r\n",
    "    sub.add(end_before_start(trips[i], trips[i + 1]))"
   ],
   "outputs": [],
   "metadata": {}
  },
  {
   "cell_type": "code",
   "execution_count": null,
   "source": [
    "sub"
   ],
   "outputs": [],
   "metadata": {}
  },
  {
   "cell_type": "code",
   "execution_count": null,
   "source": [
    "td_matrix = {}\r\n",
    "for trip in model.trips:\r\n",
    "    for duty in range(ntrips):\r\n",
    "        td_matrix[(trip.ID, duty)] = binary_var(name=f\"T{trip.ID}-D{duty}\")"
   ],
   "outputs": [],
   "metadata": {}
  },
  {
   "cell_type": "code",
   "execution_count": null,
   "source": [
    "end_of(trips[0]).equals(trips[1])"
   ],
   "outputs": [],
   "metadata": {}
  },
  {
   "cell_type": "code",
   "execution_count": null,
   "source": [
    "INTERVAL_MAX"
   ],
   "outputs": [],
   "metadata": {}
  }
 ],
 "metadata": {
  "orig_nbformat": 4,
  "language_info": {
   "name": "python",
   "version": "3.8.10",
   "mimetype": "text/x-python",
   "codemirror_mode": {
    "name": "ipython",
    "version": 3
   },
   "pygments_lexer": "ipython3",
   "nbconvert_exporter": "python",
   "file_extension": ".py"
  },
  "kernelspec": {
   "name": "python3",
   "display_name": "Python 3.8.10 64-bit ('atopt': conda)"
  },
  "interpreter": {
   "hash": "30b76737b47ce3d470b4fde264b950ba3bc26e4f5d012461593ceba8f25caf38"
  }
 },
 "nbformat": 4,
 "nbformat_minor": 2
}