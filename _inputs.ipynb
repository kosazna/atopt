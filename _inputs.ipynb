{
 "cells": [
  {
   "cell_type": "code",
   "execution_count": 1,
   "source": [
    "from utilities import *\r\n",
    "from core.initial import Insertions\r\n",
    "from core.solver import CGCPSolver\r\n",
    "from docplex.cp.model import *\r\n",
    "from docplex.mp.model import Model\r\n",
    "import pandas as pd"
   ],
   "outputs": [],
   "metadata": {}
  },
  {
   "cell_type": "code",
   "execution_count": 2,
   "source": [
    "datafile = \"D:/Google Drive/MSc MST-AUEB/_Thesis_/Main Thesis/Model Data.xlsx\"\r\n",
    "d = DataProvider(filepath=datafile, route='910')\r\n",
    "model = CSPModel(d)\r\n",
    "model.build_model()\r\n",
    "initial = Insertions(model)\r\n",
    "initial.solve()\r\n",
    "s = CGCPSolver(initial.sol)"
   ],
   "outputs": [],
   "metadata": {}
  },
  {
   "cell_type": "code",
   "execution_count": null,
   "source": [
    "rmp = Model(name='Restricted_Master_Problem')\r\n",
    "\r\n",
    "rmp.trips = s.trips\r\n",
    "rmp.duties = s.duties\r\n",
    "\r\n",
    "rmp.trip_duty_arr = rmp.binary_var_matrix(s.trips, s.duties)"
   ],
   "outputs": [],
   "metadata": {}
  },
  {
   "cell_type": "code",
   "execution_count": null,
   "source": [
    "rmp.duty_arr = rmp.binary_var_list(rmp.duties, name='duty')"
   ],
   "outputs": [],
   "metadata": {}
  },
  {
   "cell_type": "code",
   "execution_count": null,
   "source": [
    "for trip in rmp.trips:\r\n",
    "    duty_ct = rmp.sum(rmp.trip_duty_arr[(trip, duty)] * rmp.duty_arr[duty.ID] for duty in rmp.duties) == 1\r\n",
    "    rmp.add_constraint(duty_ct)"
   ],
   "outputs": [],
   "metadata": {}
  },
  {
   "cell_type": "code",
   "execution_count": null,
   "source": [
    "rmp.minimize(rmp.sum(rmp.duty_arr[duty.ID] for duty in rmp.duties))"
   ],
   "outputs": [],
   "metadata": {}
  },
  {
   "cell_type": "code",
   "execution_count": null,
   "source": [
    "rmp.solve()"
   ],
   "outputs": [],
   "metadata": {}
  },
  {
   "cell_type": "code",
   "execution_count": null,
   "source": [],
   "outputs": [],
   "metadata": {}
  },
  {
   "cell_type": "code",
   "execution_count": 3,
   "source": [
    "sub = CpoModel(name=\"Pricing_Subproblem\")"
   ],
   "outputs": [],
   "metadata": {}
  },
  {
   "cell_type": "code",
   "execution_count": 22,
   "source": [
    "ntrips = len(model.trips)\r\n",
    "nduties = 20"
   ],
   "outputs": [],
   "metadata": {}
  },
  {
   "cell_type": "code",
   "execution_count": 23,
   "source": [
    "trips = [interval_var(start=trip.start_time,\r\n",
    "                      end=trip.end_time,\r\n",
    "                      length=trip.duration,\r\n",
    "                      size=trip.duration,\r\n",
    "                      name=f'Trip_{idx}') for idx, trip in enumerate(model.trips)]\r\n"
   ],
   "outputs": [],
   "metadata": {}
  },
  {
   "cell_type": "code",
   "execution_count": 24,
   "source": [
    "duties = [interval_var(length=model.constraints.shift_span,\r\n",
    "                       size=model.constraints.shift_span,\r\n",
    "                       name=f\"Duty_{i}\") for i in range(nduties)]\r\n",
    "\r\n",
    "perform_duty = binary_var_list(nduties, name='Duty')\r\n"
   ],
   "outputs": [],
   "metadata": {}
  },
  {
   "cell_type": "code",
   "execution_count": 25,
   "source": [
    "has_break = [[binary_var(name=f'Break_{i}_{j}') for j in range(nduties)] for i in range(ntrips)]\r\n",
    "has_rest = [[binary_var(name=f'Rest_{i}_{j}') for j in range(nduties)] for i in range(ntrips)]"
   ],
   "outputs": [],
   "metadata": {}
  },
  {
   "cell_type": "code",
   "execution_count": 26,
   "source": [
    "cdt = integer_var_list(nduties, min=0, max=model.constraints.continuous_driving, name=\"CDT\")\r\n",
    "tdt = integer_var_list(nduties, min=0, max=model.constraints.continuous_driving, name=\"TDT\")"
   ],
   "outputs": [],
   "metadata": {}
  },
  {
   "cell_type": "code",
   "execution_count": 31,
   "source": [
    "cdt[0].get_domain()"
   ],
   "outputs": [
    {
     "output_type": "execute_result",
     "data": {
      "text/plain": [
       "((0, 240),)"
      ]
     },
     "metadata": {},
     "execution_count": 31
    }
   ],
   "metadata": {}
  },
  {
   "cell_type": "code",
   "execution_count": 34,
   "source": [
    "trip_seq = sequence_var(trips)"
   ],
   "outputs": [],
   "metadata": {}
  },
  {
   "cell_type": "code",
   "execution_count": 20,
   "source": [
    "for i in range(ntrips-1):\r\n",
    "    sub.add(end_before_start(trips[i], trips[i + 1]))"
   ],
   "outputs": [],
   "metadata": {}
  },
  {
   "cell_type": "code",
   "execution_count": 37,
   "source": [
    "sub.solve()"
   ],
   "outputs": [
    {
     "output_type": "stream",
     "name": "stdout",
     "text": [
      "C:/Users/AZNAVO~1.K/AppData/Local/Temp/ipykernel_10712/1737680659.py:2(stream:71:1): Warning: The constraint is always false, the model is infeasible.\n",
      "                                                                                                endBeforeStart(Trip_0, Trip_1)\n",
      "C:/Users/AZNAVO~1.K/AppData/Local/Temp/ipykernel_10712/1737680659.py:2(stream:72:1): Warning: The constraint is always false, the model is infeasible.\n",
      "                                                                                                endBeforeStart(Trip_1, Trip_2)\n",
      "C:/Users/AZNAVO~1.K/AppData/Local/Temp/ipykernel_10712/1737680659.py:2(stream:73:1): Warning: The constraint is always false, the model is infeasible.\n",
      "                                                                                                endBeforeStart(Trip_2, Trip_3)\n",
      "C:/Users/AZNAVO~1.K/AppData/Local/Temp/ipykernel_10712/1737680659.py:2(stream:74:1): Warning: The constraint is always false, the model is infeasible.\n",
      "                                                                                                endBeforeStart(Trip_3, Trip_4)\n",
      "C:/Users/AZNAVO~1.K/AppData/Local/Temp/ipykernel_10712/1737680659.py:2(stream:75:1): Warning: The constraint is always false, the model is infeasible.\n",
      "                                                                                                endBeforeStart(Trip_4, Trip_5)\n",
      "C:/Users/AZNAVO~1.K/AppData/Local/Temp/ipykernel_10712/1737680659.py:2(stream:76:1): Warning: The constraint is always false, the model is infeasible.\n",
      "                                                                                                endBeforeStart(Trip_5, Trip_6)\n",
      "C:/Users/AZNAVO~1.K/AppData/Local/Temp/ipykernel_10712/1737680659.py:2(stream:77:1): Warning: The constraint is always false, the model is infeasible.\n",
      "                                                                                                endBeforeStart(Trip_6, Trip_7)\n",
      "C:/Users/AZNAVO~1.K/AppData/Local/Temp/ipykernel_10712/1737680659.py:2(stream:78:1): Warning: The constraint is always false, the model is infeasible.\n",
      "                                                                                                endBeforeStart(Trip_7, Trip_8)\n",
      "C:/Users/AZNAVO~1.K/AppData/Local/Temp/ipykernel_10712/1737680659.py:2(stream:79:1): Warning: The constraint is always false, the model is infeasible.\n",
      "                                                                                                endBeforeStart(Trip_8, Trip_9)\n",
      "C:/Users/AZNAVO~1.K/AppData/Local/Temp/ipykernel_10712/1737680659.py:2(stream:80:1): Warning: The constraint is always false, the model is infeasible.\n",
      "                                                                                                endBeforeStart(Trip_9, Trip_10)\n",
      "C:/Users/AZNAVO~1.K/AppData/Local/Temp/ipykernel_10712/1737680659.py:2(stream:81:1): Warning: The constraint is always false, the model is infeasible.\n",
      "                                                                                                endBeforeStart(Trip_10, Trip_11)\n",
      "C:/Users/AZNAVO~1.K/AppData/Local/Temp/ipykernel_10712/1737680659.py:2(stream:82:1): Warning: The constraint is always false, the model is infeasible.\n",
      "                                                                                                endBeforeStart(Trip_11, Trip_12)\n",
      "C:/Users/AZNAVO~1.K/AppData/Local/Temp/ipykernel_10712/1737680659.py:2(stream:83:1): Warning: The constraint is always false, the model is infeasible.\n",
      "                                                                                                endBeforeStart(Trip_12, Trip_13)\n",
      "C:/Users/AZNAVO~1.K/AppData/Local/Temp/ipykernel_10712/1737680659.py:2(stream:84:1): Warning: The constraint is always false, the model is infeasible.\n",
      "                                                                                                endBeforeStart(Trip_13, Trip_14)\n",
      "C:/Users/AZNAVO~1.K/AppData/Local/Temp/ipykernel_10712/1737680659.py:2(stream:85:1): Warning: The constraint is always false, the model is infeasible.\n",
      "                                                                                                endBeforeStart(Trip_14, Trip_15)\n",
      "C:/Users/AZNAVO~1.K/AppData/Local/Temp/ipykernel_10712/1737680659.py:2(stream:86:1): Warning: The constraint is always false, the model is infeasible.\n",
      "                                                                                                endBeforeStart(Trip_15, Trip_16)\n",
      "C:/Users/AZNAVO~1.K/AppData/Local/Temp/ipykernel_10712/1737680659.py:2(stream:87:1): Warning: The constraint is always false, the model is infeasible.\n",
      "                                                                                                endBeforeStart(Trip_16, Trip_17)\n",
      "C:/Users/AZNAVO~1.K/AppData/Local/Temp/ipykernel_10712/1737680659.py:2(stream:88:1): Warning: The constraint is always false, the model is infeasible.\n",
      "                                                                                                endBeforeStart(Trip_17, Trip_18)\n",
      "C:/Users/AZNAVO~1.K/AppData/Local/Temp/ipykernel_10712/1737680659.py:2(stream:89:1): Warning: The constraint is always false, the model is infeasible.\n",
      "                                                                                                endBeforeStart(Trip_18, Trip_19)\n",
      "C:/Users/AZNAVO~1.K/AppData/Local/Temp/ipykernel_10712/1737680659.py:2(stream:90:1): Warning: The constraint is always false, the model is infeasible.\n",
      "                                                                                                endBeforeStart(Trip_19, Trip_20)\n",
      "   Too many warnings of this type. Suppressing further warnings of this type.\n",
      " ! --------------------------------------------------- CP Optimizer 20.1.0.0 --\n",
      " ! Satisfiability problem - 58 variables, 57 constraints\n",
      " ! Initial process time : 0.01s (0.01s extraction + 0.00s propagation)\n",
      " !  . Log search space  : 0.0 (before), 0.0 (after)\n",
      " !  . Memory usage      : 335.2 kB (before), 335.2 kB (after)\n",
      " ! Using parallel search with 4 workers.\n",
      " ! ----------------------------------------------------------------------------\n",
      " !               Branches  Non-fixed    W       Branch decision\n",
      " ! ----------------------------------------------------------------------------\n",
      " ! Search completed, model has no solution.\n",
      " ! ----------------------------------------------------------------------------\n",
      " ! Number of branches     : 0\n",
      " ! Number of fails        : 0\n",
      " ! Total memory usage     : 678.0 kB (616.6 kB CP Optimizer + 61.4 kB Concert)\n",
      " ! Time spent in solve    : 0.06s (0.05s engine + 0.01s extraction)\n",
      " ! Search speed (br. / s) : 0\n",
      " ! ----------------------------------------------------------------------------\n"
     ]
    },
    {
     "output_type": "execute_result",
     "data": {
      "text/plain": [
       "<docplex.cp.solution.CpoSolveResult at 0x2e8787a3610>"
      ]
     },
     "metadata": {},
     "execution_count": 37
    }
   ],
   "metadata": {}
  },
  {
   "cell_type": "code",
   "execution_count": null,
   "source": [
    "td_matrix = {}\r\n",
    "for trip in model.trips:\r\n",
    "    for duty in range(ntrips):\r\n",
    "        td_matrix[(trip.ID, duty)] = binary_var(name=f\"T{trip.ID}-D{duty}\")"
   ],
   "outputs": [],
   "metadata": {}
  },
  {
   "cell_type": "code",
   "execution_count": null,
   "source": [
    "end_of(trips[0]).equals(trips[1])"
   ],
   "outputs": [],
   "metadata": {}
  },
  {
   "cell_type": "code",
   "execution_count": null,
   "source": [
    "INTERVAL_MAX"
   ],
   "outputs": [],
   "metadata": {}
  }
 ],
 "metadata": {
  "orig_nbformat": 4,
  "language_info": {
   "name": "python",
   "version": "3.8.10",
   "mimetype": "text/x-python",
   "codemirror_mode": {
    "name": "ipython",
    "version": 3
   },
   "pygments_lexer": "ipython3",
   "nbconvert_exporter": "python",
   "file_extension": ".py"
  },
  "kernelspec": {
   "name": "python3",
   "display_name": "Python 3.8.10 64-bit ('atopt': conda)"
  },
  "interpreter": {
   "hash": "30b76737b47ce3d470b4fde264b950ba3bc26e4f5d012461593ceba8f25caf38"
  }
 },
 "nbformat": 4,
 "nbformat_minor": 2
}