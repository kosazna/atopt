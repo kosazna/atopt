{
 "cells": [
  {
   "cell_type": "code",
   "execution_count": 2,
   "source": [
    "from utilities import *\r\n",
    "import pandas as pd"
   ],
   "outputs": [],
   "metadata": {}
  },
  {
   "cell_type": "code",
   "execution_count": 3,
   "source": [
    "datafile = \"D:/Google Drive/MSc MST-AUEB/_Thesis_/Main Thesis/Model Data.xlsx\"\r\n",
    "d = DataProvider(filepath=datafile, route='910')"
   ],
   "outputs": [],
   "metadata": {}
  },
  {
   "cell_type": "code",
   "execution_count": null,
   "source": [
    "d.data"
   ],
   "outputs": [],
   "metadata": {}
  },
  {
   "cell_type": "code",
   "execution_count": 4,
   "source": [
    "for st, et in zip(d.data['start_time'], d.data['end_time']):\r\n",
    "    print(Shift(d.constraints, st))"
   ],
   "outputs": [
    {
     "output_type": "stream",
     "name": "stdout",
     "text": [
      "Shift(constraints=<utilities.data.Contraints object at 0x000001548E835760>, start_time=300, end_time=0, max_end_time=1020, working_time=0, short_rests=0, rest_time=0, breaks=0, break_time=0, trips=())\n",
      "Shift(constraints=<utilities.data.Contraints object at 0x000001548E835760>, start_time=320, end_time=0, max_end_time=1040, working_time=0, short_rests=0, rest_time=0, breaks=0, break_time=0, trips=())\n",
      "Shift(constraints=<utilities.data.Contraints object at 0x000001548E835760>, start_time=355, end_time=0, max_end_time=1075, working_time=0, short_rests=0, rest_time=0, breaks=0, break_time=0, trips=())\n",
      "Shift(constraints=<utilities.data.Contraints object at 0x000001548E835760>, start_time=380, end_time=0, max_end_time=1100, working_time=0, short_rests=0, rest_time=0, breaks=0, break_time=0, trips=())\n",
      "Shift(constraints=<utilities.data.Contraints object at 0x000001548E835760>, start_time=400, end_time=0, max_end_time=1120, working_time=0, short_rests=0, rest_time=0, breaks=0, break_time=0, trips=())\n",
      "Shift(constraints=<utilities.data.Contraints object at 0x000001548E835760>, start_time=420, end_time=0, max_end_time=1140, working_time=0, short_rests=0, rest_time=0, breaks=0, break_time=0, trips=())\n",
      "Shift(constraints=<utilities.data.Contraints object at 0x000001548E835760>, start_time=435, end_time=0, max_end_time=1155, working_time=0, short_rests=0, rest_time=0, breaks=0, break_time=0, trips=())\n",
      "Shift(constraints=<utilities.data.Contraints object at 0x000001548E835760>, start_time=450, end_time=0, max_end_time=1170, working_time=0, short_rests=0, rest_time=0, breaks=0, break_time=0, trips=())\n",
      "Shift(constraints=<utilities.data.Contraints object at 0x000001548E835760>, start_time=465, end_time=0, max_end_time=1185, working_time=0, short_rests=0, rest_time=0, breaks=0, break_time=0, trips=())\n",
      "Shift(constraints=<utilities.data.Contraints object at 0x000001548E835760>, start_time=480, end_time=0, max_end_time=1200, working_time=0, short_rests=0, rest_time=0, breaks=0, break_time=0, trips=())\n",
      "Shift(constraints=<utilities.data.Contraints object at 0x000001548E835760>, start_time=495, end_time=0, max_end_time=1215, working_time=0, short_rests=0, rest_time=0, breaks=0, break_time=0, trips=())\n",
      "Shift(constraints=<utilities.data.Contraints object at 0x000001548E835760>, start_time=515, end_time=0, max_end_time=1235, working_time=0, short_rests=0, rest_time=0, breaks=0, break_time=0, trips=())\n",
      "Shift(constraints=<utilities.data.Contraints object at 0x000001548E835760>, start_time=530, end_time=0, max_end_time=1250, working_time=0, short_rests=0, rest_time=0, breaks=0, break_time=0, trips=())\n",
      "Shift(constraints=<utilities.data.Contraints object at 0x000001548E835760>, start_time=545, end_time=0, max_end_time=1265, working_time=0, short_rests=0, rest_time=0, breaks=0, break_time=0, trips=())\n",
      "Shift(constraints=<utilities.data.Contraints object at 0x000001548E835760>, start_time=565, end_time=0, max_end_time=1285, working_time=0, short_rests=0, rest_time=0, breaks=0, break_time=0, trips=())\n",
      "Shift(constraints=<utilities.data.Contraints object at 0x000001548E835760>, start_time=580, end_time=0, max_end_time=1300, working_time=0, short_rests=0, rest_time=0, breaks=0, break_time=0, trips=())\n",
      "Shift(constraints=<utilities.data.Contraints object at 0x000001548E835760>, start_time=595, end_time=0, max_end_time=1315, working_time=0, short_rests=0, rest_time=0, breaks=0, break_time=0, trips=())\n",
      "Shift(constraints=<utilities.data.Contraints object at 0x000001548E835760>, start_time=610, end_time=0, max_end_time=1330, working_time=0, short_rests=0, rest_time=0, breaks=0, break_time=0, trips=())\n",
      "Shift(constraints=<utilities.data.Contraints object at 0x000001548E835760>, start_time=625, end_time=0, max_end_time=1345, working_time=0, short_rests=0, rest_time=0, breaks=0, break_time=0, trips=())\n",
      "Shift(constraints=<utilities.data.Contraints object at 0x000001548E835760>, start_time=645, end_time=0, max_end_time=1365, working_time=0, short_rests=0, rest_time=0, breaks=0, break_time=0, trips=())\n",
      "Shift(constraints=<utilities.data.Contraints object at 0x000001548E835760>, start_time=660, end_time=0, max_end_time=1380, working_time=0, short_rests=0, rest_time=0, breaks=0, break_time=0, trips=())\n",
      "Shift(constraints=<utilities.data.Contraints object at 0x000001548E835760>, start_time=675, end_time=0, max_end_time=1395, working_time=0, short_rests=0, rest_time=0, breaks=0, break_time=0, trips=())\n",
      "Shift(constraints=<utilities.data.Contraints object at 0x000001548E835760>, start_time=695, end_time=0, max_end_time=1415, working_time=0, short_rests=0, rest_time=0, breaks=0, break_time=0, trips=())\n",
      "Shift(constraints=<utilities.data.Contraints object at 0x000001548E835760>, start_time=710, end_time=0, max_end_time=1430, working_time=0, short_rests=0, rest_time=0, breaks=0, break_time=0, trips=())\n",
      "Shift(constraints=<utilities.data.Contraints object at 0x000001548E835760>, start_time=725, end_time=0, max_end_time=1445, working_time=0, short_rests=0, rest_time=0, breaks=0, break_time=0, trips=())\n",
      "Shift(constraints=<utilities.data.Contraints object at 0x000001548E835760>, start_time=745, end_time=0, max_end_time=1465, working_time=0, short_rests=0, rest_time=0, breaks=0, break_time=0, trips=())\n",
      "Shift(constraints=<utilities.data.Contraints object at 0x000001548E835760>, start_time=760, end_time=0, max_end_time=1480, working_time=0, short_rests=0, rest_time=0, breaks=0, break_time=0, trips=())\n",
      "Shift(constraints=<utilities.data.Contraints object at 0x000001548E835760>, start_time=775, end_time=0, max_end_time=1495, working_time=0, short_rests=0, rest_time=0, breaks=0, break_time=0, trips=())\n",
      "Shift(constraints=<utilities.data.Contraints object at 0x000001548E835760>, start_time=795, end_time=0, max_end_time=1515, working_time=0, short_rests=0, rest_time=0, breaks=0, break_time=0, trips=())\n",
      "Shift(constraints=<utilities.data.Contraints object at 0x000001548E835760>, start_time=810, end_time=0, max_end_time=1530, working_time=0, short_rests=0, rest_time=0, breaks=0, break_time=0, trips=())\n",
      "Shift(constraints=<utilities.data.Contraints object at 0x000001548E835760>, start_time=825, end_time=0, max_end_time=1545, working_time=0, short_rests=0, rest_time=0, breaks=0, break_time=0, trips=())\n",
      "Shift(constraints=<utilities.data.Contraints object at 0x000001548E835760>, start_time=845, end_time=0, max_end_time=1565, working_time=0, short_rests=0, rest_time=0, breaks=0, break_time=0, trips=())\n",
      "Shift(constraints=<utilities.data.Contraints object at 0x000001548E835760>, start_time=860, end_time=0, max_end_time=1580, working_time=0, short_rests=0, rest_time=0, breaks=0, break_time=0, trips=())\n",
      "Shift(constraints=<utilities.data.Contraints object at 0x000001548E835760>, start_time=875, end_time=0, max_end_time=1595, working_time=0, short_rests=0, rest_time=0, breaks=0, break_time=0, trips=())\n",
      "Shift(constraints=<utilities.data.Contraints object at 0x000001548E835760>, start_time=895, end_time=0, max_end_time=1615, working_time=0, short_rests=0, rest_time=0, breaks=0, break_time=0, trips=())\n",
      "Shift(constraints=<utilities.data.Contraints object at 0x000001548E835760>, start_time=910, end_time=0, max_end_time=1630, working_time=0, short_rests=0, rest_time=0, breaks=0, break_time=0, trips=())\n",
      "Shift(constraints=<utilities.data.Contraints object at 0x000001548E835760>, start_time=925, end_time=0, max_end_time=1645, working_time=0, short_rests=0, rest_time=0, breaks=0, break_time=0, trips=())\n",
      "Shift(constraints=<utilities.data.Contraints object at 0x000001548E835760>, start_time=945, end_time=0, max_end_time=1665, working_time=0, short_rests=0, rest_time=0, breaks=0, break_time=0, trips=())\n",
      "Shift(constraints=<utilities.data.Contraints object at 0x000001548E835760>, start_time=960, end_time=0, max_end_time=1680, working_time=0, short_rests=0, rest_time=0, breaks=0, break_time=0, trips=())\n",
      "Shift(constraints=<utilities.data.Contraints object at 0x000001548E835760>, start_time=975, end_time=0, max_end_time=1695, working_time=0, short_rests=0, rest_time=0, breaks=0, break_time=0, trips=())\n",
      "Shift(constraints=<utilities.data.Contraints object at 0x000001548E835760>, start_time=995, end_time=0, max_end_time=1715, working_time=0, short_rests=0, rest_time=0, breaks=0, break_time=0, trips=())\n",
      "Shift(constraints=<utilities.data.Contraints object at 0x000001548E835760>, start_time=1010, end_time=0, max_end_time=1730, working_time=0, short_rests=0, rest_time=0, breaks=0, break_time=0, trips=())\n",
      "Shift(constraints=<utilities.data.Contraints object at 0x000001548E835760>, start_time=1025, end_time=0, max_end_time=1745, working_time=0, short_rests=0, rest_time=0, breaks=0, break_time=0, trips=())\n",
      "Shift(constraints=<utilities.data.Contraints object at 0x000001548E835760>, start_time=1045, end_time=0, max_end_time=1765, working_time=0, short_rests=0, rest_time=0, breaks=0, break_time=0, trips=())\n",
      "Shift(constraints=<utilities.data.Contraints object at 0x000001548E835760>, start_time=1060, end_time=0, max_end_time=1780, working_time=0, short_rests=0, rest_time=0, breaks=0, break_time=0, trips=())\n",
      "Shift(constraints=<utilities.data.Contraints object at 0x000001548E835760>, start_time=1080, end_time=0, max_end_time=1800, working_time=0, short_rests=0, rest_time=0, breaks=0, break_time=0, trips=())\n",
      "Shift(constraints=<utilities.data.Contraints object at 0x000001548E835760>, start_time=1105, end_time=0, max_end_time=1825, working_time=0, short_rests=0, rest_time=0, breaks=0, break_time=0, trips=())\n",
      "Shift(constraints=<utilities.data.Contraints object at 0x000001548E835760>, start_time=1130, end_time=0, max_end_time=1850, working_time=0, short_rests=0, rest_time=0, breaks=0, break_time=0, trips=())\n",
      "Shift(constraints=<utilities.data.Contraints object at 0x000001548E835760>, start_time=1150, end_time=0, max_end_time=1870, working_time=0, short_rests=0, rest_time=0, breaks=0, break_time=0, trips=())\n",
      "Shift(constraints=<utilities.data.Contraints object at 0x000001548E835760>, start_time=1170, end_time=0, max_end_time=1890, working_time=0, short_rests=0, rest_time=0, breaks=0, break_time=0, trips=())\n",
      "Shift(constraints=<utilities.data.Contraints object at 0x000001548E835760>, start_time=1190, end_time=0, max_end_time=1910, working_time=0, short_rests=0, rest_time=0, breaks=0, break_time=0, trips=())\n",
      "Shift(constraints=<utilities.data.Contraints object at 0x000001548E835760>, start_time=1215, end_time=0, max_end_time=1935, working_time=0, short_rests=0, rest_time=0, breaks=0, break_time=0, trips=())\n",
      "Shift(constraints=<utilities.data.Contraints object at 0x000001548E835760>, start_time=1240, end_time=0, max_end_time=1960, working_time=0, short_rests=0, rest_time=0, breaks=0, break_time=0, trips=())\n",
      "Shift(constraints=<utilities.data.Contraints object at 0x000001548E835760>, start_time=1270, end_time=0, max_end_time=1990, working_time=0, short_rests=0, rest_time=0, breaks=0, break_time=0, trips=())\n",
      "Shift(constraints=<utilities.data.Contraints object at 0x000001548E835760>, start_time=1305, end_time=0, max_end_time=2025, working_time=0, short_rests=0, rest_time=0, breaks=0, break_time=0, trips=())\n",
      "Shift(constraints=<utilities.data.Contraints object at 0x000001548E835760>, start_time=1345, end_time=0, max_end_time=2065, working_time=0, short_rests=0, rest_time=0, breaks=0, break_time=0, trips=())\n",
      "Shift(constraints=<utilities.data.Contraints object at 0x000001548E835760>, start_time=1385, end_time=0, max_end_time=2105, working_time=0, short_rests=0, rest_time=0, breaks=0, break_time=0, trips=())\n",
      "Shift(constraints=<utilities.data.Contraints object at 0x000001548E835760>, start_time=1420, end_time=0, max_end_time=2140, working_time=0, short_rests=0, rest_time=0, breaks=0, break_time=0, trips=())\n"
     ]
    }
   ],
   "metadata": {}
  }
 ],
 "metadata": {
  "orig_nbformat": 4,
  "language_info": {
   "name": "python",
   "version": "3.8.10",
   "mimetype": "text/x-python",
   "codemirror_mode": {
    "name": "ipython",
    "version": 3
   },
   "pygments_lexer": "ipython3",
   "nbconvert_exporter": "python",
   "file_extension": ".py"
  },
  "kernelspec": {
   "name": "python3",
   "display_name": "Python 3.8.10 64-bit ('atopt': conda)"
  },
  "interpreter": {
   "hash": "30b76737b47ce3d470b4fde264b950ba3bc26e4f5d012461593ceba8f25caf38"
  }
 },
 "nbformat": 4,
 "nbformat_minor": 2
}