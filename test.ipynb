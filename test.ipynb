{
 "cells": [
  {
   "cell_type": "code",
   "execution_count": 1,
   "source": [
    "from docplex.mp.model import Model"
   ],
   "outputs": [],
   "metadata": {}
  },
  {
   "cell_type": "code",
   "execution_count": 3,
   "source": [
    "items = range(5)\r\n",
    "item_sizes = [20, 45, 50, 55, 75]\r\n",
    "item_demands = [48, 35, 24, 10, 8]\r\n",
    "roll_width = 110\r\n",
    "EPS = 0.0001"
   ],
   "outputs": [],
   "metadata": {}
  },
  {
   "cell_type": "code",
   "execution_count": 4,
   "source": [
    "max_cut = 100\r\n",
    "cuts = range(max_cut)\r\n",
    "mdl = Model('Custstock')\r\n",
    "cut_vars = mdl.integer_var_matrix(cuts, items, lb=0, ub=10, name=\"cuts\")\r\n",
    "used_vars = mdl.binary_var_dict(cuts, name=\"used\")\r\n",
    "# Objective\r\n",
    "cost = mdl.sum(used_vars[c] for c in cuts)\r\n",
    "obj = mdl.minimize(cost)\r\n",
    "# link used and cuts\r\n",
    "mdl.add_constraints(mdl.sum(cut_vars[c, i]\r\n",
    "                    for i in items) <= 100*used_vars[c] for c in cuts)\r\n",
    "# Cover demand\r\n",
    "mdl.add_constraints(mdl.sum(cut_vars[c, i]\r\n",
    "                    for c in cuts) >= item_demands[i] for i in items)\r\n",
    "# Roll width\r\n",
    "mdl.add_constraints(mdl.sum(item_sizes[i] * cut_vars[c, i]\r\n",
    "                    for i in items) <= roll_width for c in cuts)\r\n",
    "mdl.print_information()\r\n",
    "mdl.solve(log_output=True)\r\n",
    "mdl.report()\r\n"
   ],
   "outputs": [
    {
     "output_type": "stream",
     "name": "stdout",
     "text": [
      "Model: Custstock\n",
      " - number of variables: 600\n",
      "   - binary=100, integer=500, continuous=0\n",
      " - number of constraints: 205\n",
      "   - linear=205\n",
      " - parameters: defaults\n",
      " - objective: minimize\n",
      " - problem type is: MILP\n",
      "Version identifier: 20.1.0.0 | 2020-11-11 | 9bedb6d68\n",
      "CPXPARAM_Read_DataCheck                          1\n",
      "Tried aggregator 1 time.\n",
      "MIP Presolve modified 400 coefficients.\n",
      "Reduced MIP has 205 rows, 600 columns, and 1600 nonzeros.\n",
      "Reduced MIP has 200 binaries, 400 generals, 0 SOSs, and 0 indicators.\n",
      "Presolve time = 0.02 sec. (1.85 ticks)\n",
      "Found incumbent of value 100.000000 after 0.03 sec. (3.38 ticks)\n",
      "Probing time = 0.00 sec. (0.13 ticks)\n",
      "Tried aggregator 1 time.\n",
      "Detecting symmetries...\n",
      "Reduced MIP has 205 rows, 600 columns, and 1600 nonzeros.\n",
      "Reduced MIP has 200 binaries, 400 generals, 0 SOSs, and 0 indicators.\n",
      "Presolve time = 0.00 sec. (1.93 ticks)\n",
      "Probing time = 0.00 sec. (0.13 ticks)\n",
      "Clique table members: 100.\n",
      "MIP emphasis: balance optimality and feasibility.\n",
      "MIP search method: dynamic search.\n",
      "Parallel mode: deterministic, using up to 4 threads.\n",
      "Root relaxation solution time = 0.02 sec. (2.14 ticks)\n",
      "\n",
      "        Nodes                                         Cuts/\n",
      "   Node  Left     Objective  IInf  Best Integer    Best Bound    ItCnt     Gap\n",
      "\n",
      "*     0+    0                          100.0000        0.0000           100.00%\n",
      "*     0+    0                           53.0000        0.0000           100.00%\n",
      "*     0+    0                           52.0000        0.0000           100.00%\n",
      "      0     0       17.0833    84       52.0000       17.0833      275   67.15%\n",
      "      0     0       18.0000    83       52.0000      Cuts: 66      412   65.38%\n",
      "      0     0       18.0000    87       52.0000     Cuts: 151      733   65.38%\n",
      "      0     0       31.2656    89       52.0000     Cuts: 110     1157   39.87%\n",
      "      0     0       44.5000    70       52.0000     Cuts: 136     1286   14.42%\n",
      "      0     0       45.4167    44       52.0000      Cuts: 90     1415   12.66%\n",
      "      0     0       45.5000    50       52.0000      Cuts: 44     1601   12.50%\n",
      "      0     0       45.5000    38       52.0000      Cuts: 42     1695   12.50%\n",
      "      0     0       45.5000    33       52.0000      Cuts: 34     1771   12.50%\n",
      "*     0+    0                           50.0000       45.5000             9.00%\n",
      "*     0+    0                           48.0000       45.5000             5.21%\n",
      "*     0+    0                           47.0000       45.5000             3.19%\n",
      "      0     2       45.5000    27       47.0000       45.5000     1771    3.19%\n",
      "Elapsed time = 0.36 sec. (108.35 ticks, tree = 0.02 MB, solutions = 6)\n",
      "   2686  1421       45.5000    22       47.0000       45.5000    31266    3.19%\n",
      "\n",
      "Performing restart 1\n",
      "\n",
      "Repeating presolve.\n",
      "Tried aggregator 1 time.\n",
      "MIP Presolve eliminated 18 rows and 53 columns.\n",
      "MIP Presolve modified 470 coefficients.\n",
      "Reduced MIP has 187 rows, 547 columns, and 1445 nonzeros.\n",
      "Reduced MIP has 193 binaries, 354 generals, 0 SOSs, and 0 indicators.\n",
      "Presolve time = 0.02 sec. (1.82 ticks)\n",
      "Tried aggregator 1 time.\n",
      "MIP Presolve modified 360 coefficients.\n",
      "Reduced MIP has 187 rows, 547 columns, and 1445 nonzeros.\n",
      "Reduced MIP has 193 binaries, 354 generals, 0 SOSs, and 0 indicators.\n",
      "Presolve time = 0.02 sec. (2.38 ticks)\n",
      "Represolve time = 0.05 sec. (11.59 ticks)\n",
      "   5150     0       45.5000    28       47.0000      Cuts: 49    60035    3.19%\n",
      "   5150     0       45.5000    34       47.0000      Cuts: 44    60099    3.19%\n",
      "   5150     0       45.5000    25       47.0000      Cuts: 32    60184    3.19%\n",
      "   5150     0       45.5000    34       47.0000      Cuts: 33    60240    3.19%\n",
      "   5150     0       45.5000    31       47.0000      Cuts: 49    60302    3.19%\n",
      "   5150     2       45.5000    31       47.0000       45.5000    60302    3.19%\n",
      "   5941   359       45.6764    27       47.0000       45.5000    68984    3.19%\n",
      "   7454  1078       46.0000    18       47.0000       45.5000    82712    3.19%\n",
      "   9152  1976       45.8775    29       47.0000       45.5288   109034    3.13%\n",
      "  11294  2391       45.8771    26       47.0000       45.6818   142237    2.80%\n",
      "  13383  3035       45.9599    24       47.0000       45.7612   183310    2.64%\n",
      "  15679  3750        cutoff             47.0000       45.8501   214941    2.45%\n",
      "  18422  4789       46.0000    15       47.0000       45.8636   249487    2.42%\n",
      "  27827  6165       45.9545    16       47.0000       45.8818   388956    2.38%\n",
      "Elapsed time = 7.58 sec. (3351.51 ticks, tree = 3.85 MB, solutions = 6)\n",
      "  39159  4045       46.0000     7       47.0000       45.9630   517181    2.21%\n",
      "  50916   700        cutoff             47.0000       46.0000   720595    2.13%\n",
      "\n",
      "Implied bound cuts applied:  70\n",
      "Flow cuts applied:  9\n",
      "Mixed integer rounding cuts applied:  163\n",
      "Zero-half cuts applied:  12\n",
      "Gomory fractional cuts applied:  15\n",
      "\n",
      "Root node processing (before b&c):\n",
      "  Real time             =    0.36 sec. (108.11 ticks)\n",
      "Parallel b&c, 4 threads:\n",
      "  Real time             =   11.25 sec. (5271.22 ticks)\n",
      "  Sync time (average)   =    1.29 sec.\n",
      "  Wait time (average)   =    0.02 sec.\n",
      "                          ------------\n",
      "Total (root+branch&cut) =   11.61 sec. (5379.33 ticks)\n",
      "* model Custstock solved with objective = 47.000\n"
     ]
    }
   ],
   "metadata": {}
  },
  {
   "cell_type": "code",
   "execution_count": 8,
   "source": [
    "master_mdl = Model('Master-Cutstock')\r\n",
    "dummy_vars = master_mdl.continuous_var_dict(\r\n",
    "    items, lb=0, ub=max_cut, name=\"dummy_cut\")\r\n",
    "cost = master_mdl.sum(1000*dummy_vars[i] for i in items)\r\n",
    "obj = master_mdl.minimize(cost)\r\n",
    "cts = master_mdl.add_constraints(\r\n",
    "    dummy_vars[i] >= item_demands[i] for i in items)\r\n",
    "master_mdl.solve()\r\n",
    "master_mdl.report()\r\n"
   ],
   "outputs": [
    {
     "output_type": "stream",
     "name": "stdout",
     "text": [
      "* model Master-Cutstock solved with objective = 125000.000\n"
     ]
    }
   ],
   "metadata": {}
  },
  {
   "cell_type": "code",
   "execution_count": 12,
   "source": [
    "duals = master_mdl.dual_values(cts)"
   ],
   "outputs": [],
   "metadata": {}
  },
  {
   "cell_type": "code",
   "execution_count": 13,
   "source": [
    "sub_mdl = Model('Sub-Cutstock')\r\n",
    "item_vars = sub_mdl.integer_var_dict(items, ub=999999, name='items')\r\n",
    "sub_mdl.add_constraint(sub_mdl.sum(\r\n",
    "    item_sizes[i]*item_vars[i] for i in items) <= roll_width)\r\n",
    "sub_mdl.minimize(1 - sub_mdl.sum(duals[i]*item_vars[i] for i in items))\r\n",
    "sub_mdl.solve()\r\n",
    "sub_mdl.report()\r\n"
   ],
   "outputs": [
    {
     "output_type": "stream",
     "name": "stdout",
     "text": [
      "* model Sub-Cutstock solved with objective = -4999.000\n"
     ]
    }
   ],
   "metadata": {}
  },
  {
   "cell_type": "code",
   "execution_count": 14,
   "source": [
    "if sub_mdl.objective_value < -EPS:\r\n",
    "    new_pattern = [item_vars[i].solution_value for i in items]\r\n",
    "    print(f\"New pattern {new_pattern}\")\r\n",
    "    patterns.append(new_pattern)\r\n",
    "\r\n",
    "    new_var = master_mdl.continuous_var(\r\n",
    "        lb=0, ub=max_cut, name=\"cut_{0}\".format(len(patterns)))\r\n",
    "    cut_vars.append(new_var)\r\n",
    "\r\n",
    "    cost += new_var\r\n",
    "    for i in items:\r\n",
    "        cts[i].lhs += new_pattern[i] * new_var\r\n",
    "    master_mdl.solve()\r\n",
    "    master_mdl.report()\r\n",
    "    duals = master_mdl.dual_values(cts)\r\n",
    "else:\r\n",
    "    break\r\n"
   ],
   "outputs": [
    {
     "output_type": "execute_result",
     "data": {
      "text/plain": [
       "{0: docplex.mp.Var(type=I,name='items_0',ub=999999),\n",
       " 1: docplex.mp.Var(type=I,name='items_1',ub=999999),\n",
       " 2: docplex.mp.Var(type=I,name='items_2',ub=999999),\n",
       " 3: docplex.mp.Var(type=I,name='items_3',ub=999999),\n",
       " 4: docplex.mp.Var(type=I,name='items_4',ub=999999)}"
      ]
     },
     "metadata": {},
     "execution_count": 14
    }
   ],
   "metadata": {}
  }
 ],
 "metadata": {
  "orig_nbformat": 4,
  "language_info": {
   "name": "python",
   "version": "3.8.10",
   "mimetype": "text/x-python",
   "codemirror_mode": {
    "name": "ipython",
    "version": 3
   },
   "pygments_lexer": "ipython3",
   "nbconvert_exporter": "python",
   "file_extension": ".py"
  },
  "kernelspec": {
   "name": "python3",
   "display_name": "Python 3.8.10 64-bit ('atopt': conda)"
  },
  "interpreter": {
   "hash": "30b76737b47ce3d470b4fde264b950ba3bc26e4f5d012461593ceba8f25caf38"
  }
 },
 "nbformat": 4,
 "nbformat_minor": 2
}